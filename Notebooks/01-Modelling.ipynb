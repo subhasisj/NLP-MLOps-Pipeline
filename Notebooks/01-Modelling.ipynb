{
 "cells": [
  {
   "cell_type": "markdown",
   "source": [
    "# Intent Detection "
   ],
   "metadata": {}
  },
  {
   "cell_type": "code",
   "execution_count": 1,
   "source": [
    "import matplotlib.pyplot as plt\r\n",
    "import numpy as np\r\n",
    "import pandas as pd\r\n",
    "import torch\r\n",
    "from datasets import load_dataset\r\n",
    "from sklearn import metrics\r\n",
    "from sklearn.metrics import confusion_matrix, accuracy_score, precision_score, recall_score,f1_score\r\n",
    "from transformers import (AutoModelForSequenceClassification, AutoTokenizer,\r\n",
    "                          Trainer, TrainingArguments,TextClassificationPipeline)\r\n",
    "\r\n",
    "RANDOM_SEED = 34\r\n",
    "\r\n",
    "device = torch.device('cuda' if torch.cuda.is_available() else 'cpu')\r\n",
    "print('Using device:', device)\r\n"
   ],
   "outputs": [
    {
     "output_type": "stream",
     "name": "stdout",
     "text": [
      "Using device: cuda\n"
     ]
    }
   ],
   "metadata": {}
  },
  {
   "cell_type": "code",
   "execution_count": 2,
   "source": [
    "# Log in to Wandb for reporting\r\n",
    "import wandb\r\n",
    "wandb.login()"
   ],
   "outputs": [
    {
     "output_type": "stream",
     "name": "stderr",
     "text": [
      "Failed to detect the name of this notebook, you can set it manually with the WANDB_NOTEBOOK_NAME environment variable to enable code saving.\n",
      "\u001b[34m\u001b[1mwandb\u001b[0m: Currently logged in as: \u001b[33msubhasisj\u001b[0m (use `wandb login --relogin` to force relogin)\n"
     ]
    },
    {
     "output_type": "execute_result",
     "data": {
      "text/plain": [
       "True"
      ]
     },
     "metadata": {},
     "execution_count": 2
    }
   ],
   "metadata": {}
  },
  {
   "cell_type": "code",
   "execution_count": 3,
   "source": [
    "t1 = torch.randn(1,2)\r\n",
    "t2 = torch.randn(1,2).to(device)\r\n",
    "print(t1)  # tensor([[-0.2678,  1.9252]])\r\n",
    "print(t2)  # tensor([[ 0.5117, -3.6247]], device='cuda:0')"
   ],
   "outputs": [
    {
     "output_type": "stream",
     "name": "stdout",
     "text": [
      "tensor([[ 0.8934, -1.2830]])\n",
      "tensor([[1.2826, 0.4020]], device='cuda:0')\n"
     ]
    }
   ],
   "metadata": {}
  },
  {
   "cell_type": "code",
   "execution_count": 4,
   "source": [
    "clinc = load_dataset(\"clinc_oos\",\"plus\")\r\n",
    "clinc"
   ],
   "outputs": [
    {
     "output_type": "stream",
     "name": "stderr",
     "text": [
      "Reusing dataset clinc_oos (C:\\Users\\Subha\\.cache\\huggingface\\datasets\\clinc_oos\\plus\\1.0.0\\abcc41d382f8137f039adc747af44714941e8196e845dfbdd8ae7a7e020e6ba1)\n"
     ]
    },
    {
     "output_type": "execute_result",
     "data": {
      "text/plain": [
       "DatasetDict({\n",
       "    train: Dataset({\n",
       "        features: ['text', 'intent'],\n",
       "        num_rows: 15250\n",
       "    })\n",
       "    validation: Dataset({\n",
       "        features: ['text', 'intent'],\n",
       "        num_rows: 3100\n",
       "    })\n",
       "    test: Dataset({\n",
       "        features: ['text', 'intent'],\n",
       "        num_rows: 5500\n",
       "    })\n",
       "})"
      ]
     },
     "metadata": {},
     "execution_count": 4
    }
   ],
   "metadata": {}
  },
  {
   "cell_type": "code",
   "execution_count": 5,
   "source": [
    "clinc[\"train\"][10]"
   ],
   "outputs": [
    {
     "output_type": "execute_result",
     "data": {
      "text/plain": [
       "{'intent': 61, 'text': \"how would i say, 'i don't know the answer' in spanish\"}"
      ]
     },
     "metadata": {},
     "execution_count": 5
    }
   ],
   "metadata": {}
  },
  {
   "cell_type": "code",
   "execution_count": 6,
   "source": [
    "# Here intents are provided as ID's can be converted string\r\n",
    "intents = clinc[\"train\"].features[\"intent\"]"
   ],
   "outputs": [],
   "metadata": {}
  },
  {
   "cell_type": "code",
   "execution_count": 7,
   "source": [
    "intents.int2str(clinc[\"train\"][10][\"intent\"])"
   ],
   "outputs": [
    {
     "output_type": "execute_result",
     "data": {
      "text/plain": [
       "'translate'"
      ]
     },
     "metadata": {},
     "execution_count": 7
    }
   ],
   "metadata": {}
  },
  {
   "cell_type": "code",
   "execution_count": 8,
   "source": [
    "train_dataset = clinc['train']\r\n",
    "val_dataset = clinc['validation']\r\n",
    "test_dataset = clinc['test']"
   ],
   "outputs": [],
   "metadata": {}
  },
  {
   "cell_type": "code",
   "execution_count": 9,
   "source": [
    "train_dataset"
   ],
   "outputs": [
    {
     "output_type": "execute_result",
     "data": {
      "text/plain": [
       "Dataset({\n",
       "    features: ['text', 'intent'],\n",
       "    num_rows: 15250\n",
       "})"
      ]
     },
     "metadata": {},
     "execution_count": 9
    }
   ],
   "metadata": {}
  },
  {
   "cell_type": "code",
   "execution_count": 10,
   "source": [
    "train_dataset.column_names"
   ],
   "outputs": [
    {
     "output_type": "execute_result",
     "data": {
      "text/plain": [
       "['intent', 'text']"
      ]
     },
     "metadata": {},
     "execution_count": 10
    }
   ],
   "metadata": {}
  },
  {
   "cell_type": "code",
   "execution_count": 11,
   "source": [
    "train_dataset.features"
   ],
   "outputs": [
    {
     "output_type": "execute_result",
     "data": {
      "text/plain": [
       "{'text': Value(dtype='string', id=None),\n",
       " 'intent': ClassLabel(num_classes=151, names=['restaurant_reviews', 'nutrition_info', 'account_blocked', 'oil_change_how', 'time', 'weather', 'redeem_rewards', 'interest_rate', 'gas_type', 'accept_reservations', 'smart_home', 'user_name', 'report_lost_card', 'repeat', 'whisper_mode', 'what_are_your_hobbies', 'order', 'jump_start', 'schedule_meeting', 'meeting_schedule', 'freeze_account', 'what_song', 'meaning_of_life', 'restaurant_reservation', 'traffic', 'make_call', 'text', 'bill_balance', 'improve_credit_score', 'change_language', 'no', 'measurement_conversion', 'timer', 'flip_coin', 'do_you_have_pets', 'balance', 'tell_joke', 'last_maintenance', 'exchange_rate', 'uber', 'car_rental', 'credit_limit', 'oos', 'shopping_list', 'expiration_date', 'routing', 'meal_suggestion', 'tire_change', 'todo_list', 'card_declined', 'rewards_balance', 'change_accent', 'vaccines', 'reminder_update', 'food_last', 'change_ai_name', 'bill_due', 'who_do_you_work_for', 'share_location', 'international_visa', 'calendar', 'translate', 'carry_on', 'book_flight', 'insurance_change', 'todo_list_update', 'timezone', 'cancel_reservation', 'transactions', 'credit_score', 'report_fraud', 'spending_history', 'directions', 'spelling', 'insurance', 'what_is_your_name', 'reminder', 'where_are_you_from', 'distance', 'payday', 'flight_status', 'find_phone', 'greeting', 'alarm', 'order_status', 'confirm_reservation', 'cook_time', 'damaged_card', 'reset_settings', 'pin_change', 'replacement_card_duration', 'new_card', 'roll_dice', 'income', 'taxes', 'date', 'who_made_you', 'pto_request', 'tire_pressure', 'how_old_are_you', 'rollover_401k', 'pto_request_status', 'how_busy', 'application_status', 'recipe', 'calendar_update', 'play_music', 'yes', 'direct_deposit', 'credit_limit_change', 'gas', 'pay_bill', 'ingredients_list', 'lost_luggage', 'goodbye', 'what_can_i_ask_you', 'book_hotel', 'are_you_a_bot', 'next_song', 'change_speed', 'plug_type', 'maybe', 'w2', 'oil_change_when', 'thank_you', 'shopping_list_update', 'pto_balance', 'order_checks', 'travel_alert', 'fun_fact', 'sync_device', 'schedule_maintenance', 'apr', 'transfer', 'ingredient_substitution', 'calories', 'current_location', 'international_fees', 'calculator', 'definition', 'next_holiday', 'update_playlist', 'mpg', 'min_payment', 'change_user_name', 'restaurant_suggestion', 'travel_notification', 'cancel', 'pto_used', 'travel_suggestion', 'change_volume'], names_file=None, id=None)}"
      ]
     },
     "metadata": {},
     "execution_count": 11
    }
   ],
   "metadata": {}
  },
  {
   "cell_type": "markdown",
   "source": [
    "## Convert Dataset to Dataframe"
   ],
   "metadata": {}
  },
  {
   "cell_type": "code",
   "execution_count": 12,
   "source": [
    "clinc.set_format(type='pandas')\r\n",
    "df = clinc[\"train\"][:]\r\n",
    "df.head()"
   ],
   "outputs": [
    {
     "output_type": "execute_result",
     "data": {
      "text/html": [
       "<div>\n",
       "<style scoped>\n",
       "    .dataframe tbody tr th:only-of-type {\n",
       "        vertical-align: middle;\n",
       "    }\n",
       "\n",
       "    .dataframe tbody tr th {\n",
       "        vertical-align: top;\n",
       "    }\n",
       "\n",
       "    .dataframe thead th {\n",
       "        text-align: right;\n",
       "    }\n",
       "</style>\n",
       "<table border=\"1\" class=\"dataframe\">\n",
       "  <thead>\n",
       "    <tr style=\"text-align: right;\">\n",
       "      <th></th>\n",
       "      <th>intent</th>\n",
       "      <th>text</th>\n",
       "    </tr>\n",
       "  </thead>\n",
       "  <tbody>\n",
       "    <tr>\n",
       "      <th>0</th>\n",
       "      <td>61</td>\n",
       "      <td>what expression would i use to say i love you ...</td>\n",
       "    </tr>\n",
       "    <tr>\n",
       "      <th>1</th>\n",
       "      <td>61</td>\n",
       "      <td>can you tell me how to say 'i do not speak muc...</td>\n",
       "    </tr>\n",
       "    <tr>\n",
       "      <th>2</th>\n",
       "      <td>61</td>\n",
       "      <td>what is the equivalent of, 'life is good' in f...</td>\n",
       "    </tr>\n",
       "    <tr>\n",
       "      <th>3</th>\n",
       "      <td>61</td>\n",
       "      <td>tell me how to say, 'it is a beautiful morning...</td>\n",
       "    </tr>\n",
       "    <tr>\n",
       "      <th>4</th>\n",
       "      <td>61</td>\n",
       "      <td>if i were mongolian, how would i say that i am...</td>\n",
       "    </tr>\n",
       "  </tbody>\n",
       "</table>\n",
       "</div>"
      ],
      "text/plain": [
       "   intent                                               text\n",
       "0      61  what expression would i use to say i love you ...\n",
       "1      61  can you tell me how to say 'i do not speak muc...\n",
       "2      61  what is the equivalent of, 'life is good' in f...\n",
       "3      61  tell me how to say, 'it is a beautiful morning...\n",
       "4      61  if i were mongolian, how would i say that i am..."
      ]
     },
     "metadata": {},
     "execution_count": 12
    }
   ],
   "metadata": {}
  },
  {
   "cell_type": "code",
   "execution_count": 13,
   "source": [
    "# convert int2str for all intents\r\n",
    "def label_int2str(row,split):\r\n",
    "    return clinc[split].features[\"intent\"].int2str(row)\r\n",
    "\r\n",
    "df[\"intent_name\"] = df.intent.apply(label_int2str,split='train')\r\n",
    "df.sample(10)"
   ],
   "outputs": [
    {
     "output_type": "execute_result",
     "data": {
      "text/html": [
       "<div>\n",
       "<style scoped>\n",
       "    .dataframe tbody tr th:only-of-type {\n",
       "        vertical-align: middle;\n",
       "    }\n",
       "\n",
       "    .dataframe tbody tr th {\n",
       "        vertical-align: top;\n",
       "    }\n",
       "\n",
       "    .dataframe thead th {\n",
       "        text-align: right;\n",
       "    }\n",
       "</style>\n",
       "<table border=\"1\" class=\"dataframe\">\n",
       "  <thead>\n",
       "    <tr style=\"text-align: right;\">\n",
       "      <th></th>\n",
       "      <th>intent</th>\n",
       "      <th>text</th>\n",
       "      <th>intent_name</th>\n",
       "    </tr>\n",
       "  </thead>\n",
       "  <tbody>\n",
       "    <tr>\n",
       "      <th>798</th>\n",
       "      <td>128</td>\n",
       "      <td>do i need to read any travel alerts for kenya</td>\n",
       "      <td>travel_alert</td>\n",
       "    </tr>\n",
       "    <tr>\n",
       "      <th>13550</th>\n",
       "      <td>44</td>\n",
       "      <td>when does my discover card expire</td>\n",
       "      <td>expiration_date</td>\n",
       "    </tr>\n",
       "    <tr>\n",
       "      <th>3721</th>\n",
       "      <td>111</td>\n",
       "      <td>i need to pay my electric bill now</td>\n",
       "      <td>pay_bill</td>\n",
       "    </tr>\n",
       "    <tr>\n",
       "      <th>14527</th>\n",
       "      <td>93</td>\n",
       "      <td>tell me my income</td>\n",
       "      <td>income</td>\n",
       "    </tr>\n",
       "    <tr>\n",
       "      <th>9006</th>\n",
       "      <td>57</td>\n",
       "      <td>i need to know who is your boss</td>\n",
       "      <td>who_do_you_work_for</td>\n",
       "    </tr>\n",
       "    <tr>\n",
       "      <th>14910</th>\n",
       "      <td>49</td>\n",
       "      <td>i need to know why my card was just declined a...</td>\n",
       "      <td>card_declined</td>\n",
       "    </tr>\n",
       "    <tr>\n",
       "      <th>14396</th>\n",
       "      <td>46</td>\n",
       "      <td>any suggestions for a peruvian meal</td>\n",
       "      <td>meal_suggestion</td>\n",
       "    </tr>\n",
       "    <tr>\n",
       "      <th>14580</th>\n",
       "      <td>93</td>\n",
       "      <td>how much money do i bring in</td>\n",
       "      <td>income</td>\n",
       "    </tr>\n",
       "    <tr>\n",
       "      <th>9435</th>\n",
       "      <td>84</td>\n",
       "      <td>can i please get the status my order</td>\n",
       "      <td>order_status</td>\n",
       "    </tr>\n",
       "    <tr>\n",
       "      <th>14934</th>\n",
       "      <td>49</td>\n",
       "      <td>i went to target to buy a mug but my card did ...</td>\n",
       "      <td>card_declined</td>\n",
       "    </tr>\n",
       "  </tbody>\n",
       "</table>\n",
       "</div>"
      ],
      "text/plain": [
       "       intent                                               text  \\\n",
       "798       128      do i need to read any travel alerts for kenya   \n",
       "13550      44                  when does my discover card expire   \n",
       "3721      111                 i need to pay my electric bill now   \n",
       "14527      93                                  tell me my income   \n",
       "9006       57                    i need to know who is your boss   \n",
       "14910      49  i need to know why my card was just declined a...   \n",
       "14396      46                any suggestions for a peruvian meal   \n",
       "14580      93                       how much money do i bring in   \n",
       "9435       84               can i please get the status my order   \n",
       "14934      49  i went to target to buy a mug but my card did ...   \n",
       "\n",
       "               intent_name  \n",
       "798           travel_alert  \n",
       "13550      expiration_date  \n",
       "3721              pay_bill  \n",
       "14527               income  \n",
       "9006   who_do_you_work_for  \n",
       "14910        card_declined  \n",
       "14396      meal_suggestion  \n",
       "14580               income  \n",
       "9435          order_status  \n",
       "14934        card_declined  "
      ]
     },
     "metadata": {},
     "execution_count": 13
    }
   ],
   "metadata": {}
  },
  {
   "cell_type": "code",
   "execution_count": 14,
   "source": [
    "pd.options.display.max_rows = 160\r\n",
    "pd.DataFrame(df.intent_name.value_counts(ascending=False))"
   ],
   "outputs": [
    {
     "output_type": "execute_result",
     "data": {
      "text/html": [
       "<div>\n",
       "<style scoped>\n",
       "    .dataframe tbody tr th:only-of-type {\n",
       "        vertical-align: middle;\n",
       "    }\n",
       "\n",
       "    .dataframe tbody tr th {\n",
       "        vertical-align: top;\n",
       "    }\n",
       "\n",
       "    .dataframe thead th {\n",
       "        text-align: right;\n",
       "    }\n",
       "</style>\n",
       "<table border=\"1\" class=\"dataframe\">\n",
       "  <thead>\n",
       "    <tr style=\"text-align: right;\">\n",
       "      <th></th>\n",
       "      <th>intent_name</th>\n",
       "    </tr>\n",
       "  </thead>\n",
       "  <tbody>\n",
       "    <tr>\n",
       "      <th>oos</th>\n",
       "      <td>250</td>\n",
       "    </tr>\n",
       "    <tr>\n",
       "      <th>pin_change</th>\n",
       "      <td>100</td>\n",
       "    </tr>\n",
       "    <tr>\n",
       "      <th>account_blocked</th>\n",
       "      <td>100</td>\n",
       "    </tr>\n",
       "    <tr>\n",
       "      <th>what_song</th>\n",
       "      <td>100</td>\n",
       "    </tr>\n",
       "    <tr>\n",
       "      <th>international_fees</th>\n",
       "      <td>100</td>\n",
       "    </tr>\n",
       "    <tr>\n",
       "      <th>last_maintenance</th>\n",
       "      <td>100</td>\n",
       "    </tr>\n",
       "    <tr>\n",
       "      <th>meeting_schedule</th>\n",
       "      <td>100</td>\n",
       "    </tr>\n",
       "    <tr>\n",
       "      <th>ingredients_list</th>\n",
       "      <td>100</td>\n",
       "    </tr>\n",
       "    <tr>\n",
       "      <th>report_fraud</th>\n",
       "      <td>100</td>\n",
       "    </tr>\n",
       "    <tr>\n",
       "      <th>measurement_conversion</th>\n",
       "      <td>100</td>\n",
       "    </tr>\n",
       "    <tr>\n",
       "      <th>smart_home</th>\n",
       "      <td>100</td>\n",
       "    </tr>\n",
       "    <tr>\n",
       "      <th>book_hotel</th>\n",
       "      <td>100</td>\n",
       "    </tr>\n",
       "    <tr>\n",
       "      <th>current_location</th>\n",
       "      <td>100</td>\n",
       "    </tr>\n",
       "    <tr>\n",
       "      <th>weather</th>\n",
       "      <td>100</td>\n",
       "    </tr>\n",
       "    <tr>\n",
       "      <th>taxes</th>\n",
       "      <td>100</td>\n",
       "    </tr>\n",
       "    <tr>\n",
       "      <th>min_payment</th>\n",
       "      <td>100</td>\n",
       "    </tr>\n",
       "    <tr>\n",
       "      <th>whisper_mode</th>\n",
       "      <td>100</td>\n",
       "    </tr>\n",
       "    <tr>\n",
       "      <th>goodbye</th>\n",
       "      <td>100</td>\n",
       "    </tr>\n",
       "    <tr>\n",
       "      <th>order_status</th>\n",
       "      <td>100</td>\n",
       "    </tr>\n",
       "    <tr>\n",
       "      <th>international_visa</th>\n",
       "      <td>100</td>\n",
       "    </tr>\n",
       "    <tr>\n",
       "      <th>accept_reservations</th>\n",
       "      <td>100</td>\n",
       "    </tr>\n",
       "    <tr>\n",
       "      <th>calories</th>\n",
       "      <td>100</td>\n",
       "    </tr>\n",
       "    <tr>\n",
       "      <th>damaged_card</th>\n",
       "      <td>100</td>\n",
       "    </tr>\n",
       "    <tr>\n",
       "      <th>restaurant_reviews</th>\n",
       "      <td>100</td>\n",
       "    </tr>\n",
       "    <tr>\n",
       "      <th>routing</th>\n",
       "      <td>100</td>\n",
       "    </tr>\n",
       "    <tr>\n",
       "      <th>do_you_have_pets</th>\n",
       "      <td>100</td>\n",
       "    </tr>\n",
       "    <tr>\n",
       "      <th>schedule_meeting</th>\n",
       "      <td>100</td>\n",
       "    </tr>\n",
       "    <tr>\n",
       "      <th>gas_type</th>\n",
       "      <td>100</td>\n",
       "    </tr>\n",
       "    <tr>\n",
       "      <th>plug_type</th>\n",
       "      <td>100</td>\n",
       "    </tr>\n",
       "    <tr>\n",
       "      <th>tire_change</th>\n",
       "      <td>100</td>\n",
       "    </tr>\n",
       "    <tr>\n",
       "      <th>exchange_rate</th>\n",
       "      <td>100</td>\n",
       "    </tr>\n",
       "    <tr>\n",
       "      <th>next_holiday</th>\n",
       "      <td>100</td>\n",
       "    </tr>\n",
       "    <tr>\n",
       "      <th>change_volume</th>\n",
       "      <td>100</td>\n",
       "    </tr>\n",
       "    <tr>\n",
       "      <th>who_do_you_work_for</th>\n",
       "      <td>100</td>\n",
       "    </tr>\n",
       "    <tr>\n",
       "      <th>credit_limit</th>\n",
       "      <td>100</td>\n",
       "    </tr>\n",
       "    <tr>\n",
       "      <th>how_busy</th>\n",
       "      <td>100</td>\n",
       "    </tr>\n",
       "    <tr>\n",
       "      <th>cancel</th>\n",
       "      <td>100</td>\n",
       "    </tr>\n",
       "    <tr>\n",
       "      <th>vaccines</th>\n",
       "      <td>100</td>\n",
       "    </tr>\n",
       "    <tr>\n",
       "      <th>w2</th>\n",
       "      <td>100</td>\n",
       "    </tr>\n",
       "    <tr>\n",
       "      <th>are_you_a_bot</th>\n",
       "      <td>100</td>\n",
       "    </tr>\n",
       "    <tr>\n",
       "      <th>expiration_date</th>\n",
       "      <td>100</td>\n",
       "    </tr>\n",
       "    <tr>\n",
       "      <th>update_playlist</th>\n",
       "      <td>100</td>\n",
       "    </tr>\n",
       "    <tr>\n",
       "      <th>cancel_reservation</th>\n",
       "      <td>100</td>\n",
       "    </tr>\n",
       "    <tr>\n",
       "      <th>tell_joke</th>\n",
       "      <td>100</td>\n",
       "    </tr>\n",
       "    <tr>\n",
       "      <th>change_ai_name</th>\n",
       "      <td>100</td>\n",
       "    </tr>\n",
       "    <tr>\n",
       "      <th>how_old_are_you</th>\n",
       "      <td>100</td>\n",
       "    </tr>\n",
       "    <tr>\n",
       "      <th>car_rental</th>\n",
       "      <td>100</td>\n",
       "    </tr>\n",
       "    <tr>\n",
       "      <th>jump_start</th>\n",
       "      <td>100</td>\n",
       "    </tr>\n",
       "    <tr>\n",
       "      <th>meal_suggestion</th>\n",
       "      <td>100</td>\n",
       "    </tr>\n",
       "    <tr>\n",
       "      <th>recipe</th>\n",
       "      <td>100</td>\n",
       "    </tr>\n",
       "    <tr>\n",
       "      <th>income</th>\n",
       "      <td>100</td>\n",
       "    </tr>\n",
       "    <tr>\n",
       "      <th>order</th>\n",
       "      <td>100</td>\n",
       "    </tr>\n",
       "    <tr>\n",
       "      <th>traffic</th>\n",
       "      <td>100</td>\n",
       "    </tr>\n",
       "    <tr>\n",
       "      <th>order_checks</th>\n",
       "      <td>100</td>\n",
       "    </tr>\n",
       "    <tr>\n",
       "      <th>card_declined</th>\n",
       "      <td>100</td>\n",
       "    </tr>\n",
       "    <tr>\n",
       "      <th>gas</th>\n",
       "      <td>100</td>\n",
       "    </tr>\n",
       "    <tr>\n",
       "      <th>calendar_update</th>\n",
       "      <td>100</td>\n",
       "    </tr>\n",
       "    <tr>\n",
       "      <th>pto_balance</th>\n",
       "      <td>100</td>\n",
       "    </tr>\n",
       "    <tr>\n",
       "      <th>play_music</th>\n",
       "      <td>100</td>\n",
       "    </tr>\n",
       "    <tr>\n",
       "      <th>directions</th>\n",
       "      <td>100</td>\n",
       "    </tr>\n",
       "    <tr>\n",
       "      <th>spelling</th>\n",
       "      <td>100</td>\n",
       "    </tr>\n",
       "    <tr>\n",
       "      <th>greeting</th>\n",
       "      <td>100</td>\n",
       "    </tr>\n",
       "    <tr>\n",
       "      <th>reset_settings</th>\n",
       "      <td>100</td>\n",
       "    </tr>\n",
       "    <tr>\n",
       "      <th>what_is_your_name</th>\n",
       "      <td>100</td>\n",
       "    </tr>\n",
       "    <tr>\n",
       "      <th>direct_deposit</th>\n",
       "      <td>100</td>\n",
       "    </tr>\n",
       "    <tr>\n",
       "      <th>interest_rate</th>\n",
       "      <td>100</td>\n",
       "    </tr>\n",
       "    <tr>\n",
       "      <th>credit_limit_change</th>\n",
       "      <td>100</td>\n",
       "    </tr>\n",
       "    <tr>\n",
       "      <th>what_are_your_hobbies</th>\n",
       "      <td>100</td>\n",
       "    </tr>\n",
       "    <tr>\n",
       "      <th>book_flight</th>\n",
       "      <td>100</td>\n",
       "    </tr>\n",
       "    <tr>\n",
       "      <th>shopping_list</th>\n",
       "      <td>100</td>\n",
       "    </tr>\n",
       "    <tr>\n",
       "      <th>text</th>\n",
       "      <td>100</td>\n",
       "    </tr>\n",
       "    <tr>\n",
       "      <th>bill_balance</th>\n",
       "      <td>100</td>\n",
       "    </tr>\n",
       "    <tr>\n",
       "      <th>share_location</th>\n",
       "      <td>100</td>\n",
       "    </tr>\n",
       "    <tr>\n",
       "      <th>redeem_rewards</th>\n",
       "      <td>100</td>\n",
       "    </tr>\n",
       "    <tr>\n",
       "      <th>bill_due</th>\n",
       "      <td>100</td>\n",
       "    </tr>\n",
       "    <tr>\n",
       "      <th>translate</th>\n",
       "      <td>100</td>\n",
       "    </tr>\n",
       "    <tr>\n",
       "      <th>transfer</th>\n",
       "      <td>100</td>\n",
       "    </tr>\n",
       "    <tr>\n",
       "      <th>where_are_you_from</th>\n",
       "      <td>100</td>\n",
       "    </tr>\n",
       "    <tr>\n",
       "      <th>what_can_i_ask_you</th>\n",
       "      <td>100</td>\n",
       "    </tr>\n",
       "    <tr>\n",
       "      <th>maybe</th>\n",
       "      <td>100</td>\n",
       "    </tr>\n",
       "    <tr>\n",
       "      <th>oil_change_how</th>\n",
       "      <td>100</td>\n",
       "    </tr>\n",
       "    <tr>\n",
       "      <th>restaurant_reservation</th>\n",
       "      <td>100</td>\n",
       "    </tr>\n",
       "    <tr>\n",
       "      <th>balance</th>\n",
       "      <td>100</td>\n",
       "    </tr>\n",
       "    <tr>\n",
       "      <th>confirm_reservation</th>\n",
       "      <td>100</td>\n",
       "    </tr>\n",
       "    <tr>\n",
       "      <th>freeze_account</th>\n",
       "      <td>100</td>\n",
       "    </tr>\n",
       "    <tr>\n",
       "      <th>rollover_401k</th>\n",
       "      <td>100</td>\n",
       "    </tr>\n",
       "    <tr>\n",
       "      <th>who_made_you</th>\n",
       "      <td>100</td>\n",
       "    </tr>\n",
       "    <tr>\n",
       "      <th>distance</th>\n",
       "      <td>100</td>\n",
       "    </tr>\n",
       "    <tr>\n",
       "      <th>user_name</th>\n",
       "      <td>100</td>\n",
       "    </tr>\n",
       "    <tr>\n",
       "      <th>timezone</th>\n",
       "      <td>100</td>\n",
       "    </tr>\n",
       "    <tr>\n",
       "      <th>next_song</th>\n",
       "      <td>100</td>\n",
       "    </tr>\n",
       "    <tr>\n",
       "      <th>transactions</th>\n",
       "      <td>100</td>\n",
       "    </tr>\n",
       "    <tr>\n",
       "      <th>restaurant_suggestion</th>\n",
       "      <td>100</td>\n",
       "    </tr>\n",
       "    <tr>\n",
       "      <th>shopping_list_update</th>\n",
       "      <td>100</td>\n",
       "    </tr>\n",
       "    <tr>\n",
       "      <th>change_user_name</th>\n",
       "      <td>100</td>\n",
       "    </tr>\n",
       "    <tr>\n",
       "      <th>pay_bill</th>\n",
       "      <td>100</td>\n",
       "    </tr>\n",
       "    <tr>\n",
       "      <th>flip_coin</th>\n",
       "      <td>100</td>\n",
       "    </tr>\n",
       "    <tr>\n",
       "      <th>timer</th>\n",
       "      <td>100</td>\n",
       "    </tr>\n",
       "    <tr>\n",
       "      <th>definition</th>\n",
       "      <td>100</td>\n",
       "    </tr>\n",
       "    <tr>\n",
       "      <th>meaning_of_life</th>\n",
       "      <td>100</td>\n",
       "    </tr>\n",
       "    <tr>\n",
       "      <th>insurance_change</th>\n",
       "      <td>100</td>\n",
       "    </tr>\n",
       "    <tr>\n",
       "      <th>find_phone</th>\n",
       "      <td>100</td>\n",
       "    </tr>\n",
       "    <tr>\n",
       "      <th>travel_alert</th>\n",
       "      <td>100</td>\n",
       "    </tr>\n",
       "    <tr>\n",
       "      <th>pto_request</th>\n",
       "      <td>100</td>\n",
       "    </tr>\n",
       "    <tr>\n",
       "      <th>improve_credit_score</th>\n",
       "      <td>100</td>\n",
       "    </tr>\n",
       "    <tr>\n",
       "      <th>fun_fact</th>\n",
       "      <td>100</td>\n",
       "    </tr>\n",
       "    <tr>\n",
       "      <th>change_language</th>\n",
       "      <td>100</td>\n",
       "    </tr>\n",
       "    <tr>\n",
       "      <th>payday</th>\n",
       "      <td>100</td>\n",
       "    </tr>\n",
       "    <tr>\n",
       "      <th>replacement_card_duration</th>\n",
       "      <td>100</td>\n",
       "    </tr>\n",
       "    <tr>\n",
       "      <th>time</th>\n",
       "      <td>100</td>\n",
       "    </tr>\n",
       "    <tr>\n",
       "      <th>application_status</th>\n",
       "      <td>100</td>\n",
       "    </tr>\n",
       "    <tr>\n",
       "      <th>flight_status</th>\n",
       "      <td>100</td>\n",
       "    </tr>\n",
       "    <tr>\n",
       "      <th>rewards_balance</th>\n",
       "      <td>100</td>\n",
       "    </tr>\n",
       "    <tr>\n",
       "      <th>spending_history</th>\n",
       "      <td>100</td>\n",
       "    </tr>\n",
       "    <tr>\n",
       "      <th>todo_list</th>\n",
       "      <td>100</td>\n",
       "    </tr>\n",
       "    <tr>\n",
       "      <th>uber</th>\n",
       "      <td>100</td>\n",
       "    </tr>\n",
       "    <tr>\n",
       "      <th>date</th>\n",
       "      <td>100</td>\n",
       "    </tr>\n",
       "    <tr>\n",
       "      <th>carry_on</th>\n",
       "      <td>100</td>\n",
       "    </tr>\n",
       "    <tr>\n",
       "      <th>pto_used</th>\n",
       "      <td>100</td>\n",
       "    </tr>\n",
       "    <tr>\n",
       "      <th>schedule_maintenance</th>\n",
       "      <td>100</td>\n",
       "    </tr>\n",
       "    <tr>\n",
       "      <th>travel_notification</th>\n",
       "      <td>100</td>\n",
       "    </tr>\n",
       "    <tr>\n",
       "      <th>sync_device</th>\n",
       "      <td>100</td>\n",
       "    </tr>\n",
       "    <tr>\n",
       "      <th>thank_you</th>\n",
       "      <td>100</td>\n",
       "    </tr>\n",
       "    <tr>\n",
       "      <th>roll_dice</th>\n",
       "      <td>100</td>\n",
       "    </tr>\n",
       "    <tr>\n",
       "      <th>food_last</th>\n",
       "      <td>100</td>\n",
       "    </tr>\n",
       "    <tr>\n",
       "      <th>cook_time</th>\n",
       "      <td>100</td>\n",
       "    </tr>\n",
       "    <tr>\n",
       "      <th>reminder_update</th>\n",
       "      <td>100</td>\n",
       "    </tr>\n",
       "    <tr>\n",
       "      <th>report_lost_card</th>\n",
       "      <td>100</td>\n",
       "    </tr>\n",
       "    <tr>\n",
       "      <th>ingredient_substitution</th>\n",
       "      <td>100</td>\n",
       "    </tr>\n",
       "    <tr>\n",
       "      <th>make_call</th>\n",
       "      <td>100</td>\n",
       "    </tr>\n",
       "    <tr>\n",
       "      <th>alarm</th>\n",
       "      <td>100</td>\n",
       "    </tr>\n",
       "    <tr>\n",
       "      <th>calculator</th>\n",
       "      <td>100</td>\n",
       "    </tr>\n",
       "    <tr>\n",
       "      <th>calendar</th>\n",
       "      <td>100</td>\n",
       "    </tr>\n",
       "    <tr>\n",
       "      <th>pto_request_status</th>\n",
       "      <td>100</td>\n",
       "    </tr>\n",
       "    <tr>\n",
       "      <th>nutrition_info</th>\n",
       "      <td>100</td>\n",
       "    </tr>\n",
       "    <tr>\n",
       "      <th>credit_score</th>\n",
       "      <td>100</td>\n",
       "    </tr>\n",
       "    <tr>\n",
       "      <th>new_card</th>\n",
       "      <td>100</td>\n",
       "    </tr>\n",
       "    <tr>\n",
       "      <th>lost_luggage</th>\n",
       "      <td>100</td>\n",
       "    </tr>\n",
       "    <tr>\n",
       "      <th>repeat</th>\n",
       "      <td>100</td>\n",
       "    </tr>\n",
       "    <tr>\n",
       "      <th>mpg</th>\n",
       "      <td>100</td>\n",
       "    </tr>\n",
       "    <tr>\n",
       "      <th>oil_change_when</th>\n",
       "      <td>100</td>\n",
       "    </tr>\n",
       "    <tr>\n",
       "      <th>yes</th>\n",
       "      <td>100</td>\n",
       "    </tr>\n",
       "    <tr>\n",
       "      <th>travel_suggestion</th>\n",
       "      <td>100</td>\n",
       "    </tr>\n",
       "    <tr>\n",
       "      <th>insurance</th>\n",
       "      <td>100</td>\n",
       "    </tr>\n",
       "    <tr>\n",
       "      <th>todo_list_update</th>\n",
       "      <td>100</td>\n",
       "    </tr>\n",
       "    <tr>\n",
       "      <th>reminder</th>\n",
       "      <td>100</td>\n",
       "    </tr>\n",
       "    <tr>\n",
       "      <th>change_speed</th>\n",
       "      <td>100</td>\n",
       "    </tr>\n",
       "    <tr>\n",
       "      <th>tire_pressure</th>\n",
       "      <td>100</td>\n",
       "    </tr>\n",
       "    <tr>\n",
       "      <th>no</th>\n",
       "      <td>100</td>\n",
       "    </tr>\n",
       "    <tr>\n",
       "      <th>apr</th>\n",
       "      <td>100</td>\n",
       "    </tr>\n",
       "    <tr>\n",
       "      <th>change_accent</th>\n",
       "      <td>100</td>\n",
       "    </tr>\n",
       "  </tbody>\n",
       "</table>\n",
       "</div>"
      ],
      "text/plain": [
       "                           intent_name\n",
       "oos                                250\n",
       "pin_change                         100\n",
       "account_blocked                    100\n",
       "what_song                          100\n",
       "international_fees                 100\n",
       "last_maintenance                   100\n",
       "meeting_schedule                   100\n",
       "ingredients_list                   100\n",
       "report_fraud                       100\n",
       "measurement_conversion             100\n",
       "smart_home                         100\n",
       "book_hotel                         100\n",
       "current_location                   100\n",
       "weather                            100\n",
       "taxes                              100\n",
       "min_payment                        100\n",
       "whisper_mode                       100\n",
       "goodbye                            100\n",
       "order_status                       100\n",
       "international_visa                 100\n",
       "accept_reservations                100\n",
       "calories                           100\n",
       "damaged_card                       100\n",
       "restaurant_reviews                 100\n",
       "routing                            100\n",
       "do_you_have_pets                   100\n",
       "schedule_meeting                   100\n",
       "gas_type                           100\n",
       "plug_type                          100\n",
       "tire_change                        100\n",
       "exchange_rate                      100\n",
       "next_holiday                       100\n",
       "change_volume                      100\n",
       "who_do_you_work_for                100\n",
       "credit_limit                       100\n",
       "how_busy                           100\n",
       "cancel                             100\n",
       "vaccines                           100\n",
       "w2                                 100\n",
       "are_you_a_bot                      100\n",
       "expiration_date                    100\n",
       "update_playlist                    100\n",
       "cancel_reservation                 100\n",
       "tell_joke                          100\n",
       "change_ai_name                     100\n",
       "how_old_are_you                    100\n",
       "car_rental                         100\n",
       "jump_start                         100\n",
       "meal_suggestion                    100\n",
       "recipe                             100\n",
       "income                             100\n",
       "order                              100\n",
       "traffic                            100\n",
       "order_checks                       100\n",
       "card_declined                      100\n",
       "gas                                100\n",
       "calendar_update                    100\n",
       "pto_balance                        100\n",
       "play_music                         100\n",
       "directions                         100\n",
       "spelling                           100\n",
       "greeting                           100\n",
       "reset_settings                     100\n",
       "what_is_your_name                  100\n",
       "direct_deposit                     100\n",
       "interest_rate                      100\n",
       "credit_limit_change                100\n",
       "what_are_your_hobbies              100\n",
       "book_flight                        100\n",
       "shopping_list                      100\n",
       "text                               100\n",
       "bill_balance                       100\n",
       "share_location                     100\n",
       "redeem_rewards                     100\n",
       "bill_due                           100\n",
       "translate                          100\n",
       "transfer                           100\n",
       "where_are_you_from                 100\n",
       "what_can_i_ask_you                 100\n",
       "maybe                              100\n",
       "oil_change_how                     100\n",
       "restaurant_reservation             100\n",
       "balance                            100\n",
       "confirm_reservation                100\n",
       "freeze_account                     100\n",
       "rollover_401k                      100\n",
       "who_made_you                       100\n",
       "distance                           100\n",
       "user_name                          100\n",
       "timezone                           100\n",
       "next_song                          100\n",
       "transactions                       100\n",
       "restaurant_suggestion              100\n",
       "shopping_list_update               100\n",
       "change_user_name                   100\n",
       "pay_bill                           100\n",
       "flip_coin                          100\n",
       "timer                              100\n",
       "definition                         100\n",
       "meaning_of_life                    100\n",
       "insurance_change                   100\n",
       "find_phone                         100\n",
       "travel_alert                       100\n",
       "pto_request                        100\n",
       "improve_credit_score               100\n",
       "fun_fact                           100\n",
       "change_language                    100\n",
       "payday                             100\n",
       "replacement_card_duration          100\n",
       "time                               100\n",
       "application_status                 100\n",
       "flight_status                      100\n",
       "rewards_balance                    100\n",
       "spending_history                   100\n",
       "todo_list                          100\n",
       "uber                               100\n",
       "date                               100\n",
       "carry_on                           100\n",
       "pto_used                           100\n",
       "schedule_maintenance               100\n",
       "travel_notification                100\n",
       "sync_device                        100\n",
       "thank_you                          100\n",
       "roll_dice                          100\n",
       "food_last                          100\n",
       "cook_time                          100\n",
       "reminder_update                    100\n",
       "report_lost_card                   100\n",
       "ingredient_substitution            100\n",
       "make_call                          100\n",
       "alarm                              100\n",
       "calculator                         100\n",
       "calendar                           100\n",
       "pto_request_status                 100\n",
       "nutrition_info                     100\n",
       "credit_score                       100\n",
       "new_card                           100\n",
       "lost_luggage                       100\n",
       "repeat                             100\n",
       "mpg                                100\n",
       "oil_change_when                    100\n",
       "yes                                100\n",
       "travel_suggestion                  100\n",
       "insurance                          100\n",
       "todo_list_update                   100\n",
       "reminder                           100\n",
       "change_speed                       100\n",
       "tire_pressure                      100\n",
       "no                                 100\n",
       "apr                                100\n",
       "change_accent                      100"
      ]
     },
     "metadata": {},
     "execution_count": 14
    }
   ],
   "metadata": {}
  },
  {
   "cell_type": "markdown",
   "source": [
    "Looks like we have 100 instances for each intent."
   ],
   "metadata": {}
  },
  {
   "cell_type": "markdown",
   "source": [
    "## Sentence length of the Queries"
   ],
   "metadata": {}
  },
  {
   "cell_type": "code",
   "execution_count": 15,
   "source": [
    "df['text_length'] = df.text.str.split().apply(len)"
   ],
   "outputs": [],
   "metadata": {}
  },
  {
   "cell_type": "code",
   "execution_count": 16,
   "source": [
    "df.text_length.max()"
   ],
   "outputs": [
    {
     "output_type": "execute_result",
     "data": {
      "text/plain": [
       "28"
      ]
     },
     "metadata": {},
     "execution_count": 16
    }
   ],
   "metadata": {}
  },
  {
   "cell_type": "code",
   "execution_count": 17,
   "source": [
    "df.boxplot('text_length',by='intent_name')\r\n",
    "plt.suptitle('')\r\n",
    "plt.show()"
   ],
   "outputs": [
    {
     "output_type": "display_data",
     "data": {
      "image/png": "[encoded data removed]",
      "text/plain": [
       "<Figure size 640x480 with 1 Axes>"
      ]
     },
     "metadata": {}
    }
   ],
   "metadata": {}
  },
  {
   "cell_type": "markdown",
   "source": [
    "The max length of the Sentences is around 28."
   ],
   "metadata": {}
  },
  {
   "cell_type": "markdown",
   "source": [
    "## Fine Tuning the Model"
   ],
   "metadata": {}
  },
  {
   "cell_type": "code",
   "execution_count": 18,
   "source": [
    "num_labels = clinc['train'].features['intent'].num_classes\r\n",
    "\r\n",
    "# MODEL_NAME = \"distilbert-base-uncased\" # Any model from Hub or Pretrained Model Directory\r\n",
    "MODEL_NAME = \"distilroberta-base\" # Any model from Hub or Pretrained Model Directory\r\n",
    "tokenizer = AutoTokenizer.from_pretrained(MODEL_NAME)\r\n",
    "model = AutoModelForSequenceClassification.from_pretrained(MODEL_NAME, num_labels=num_labels).to(device)"
   ],
   "outputs": [
    {
     "output_type": "stream",
     "name": "stderr",
     "text": [
      "Some weights of the model checkpoint at distilroberta-base were not used when initializing RobertaForSequenceClassification: ['lm_head.bias', 'lm_head.dense.bias', 'lm_head.layer_norm.weight', 'lm_head.decoder.weight', 'roberta.pooler.dense.weight', 'roberta.pooler.dense.bias', 'lm_head.dense.weight', 'lm_head.layer_norm.bias']\n",
      "- This IS expected if you are initializing RobertaForSequenceClassification from the checkpoint of a model trained on another task or with another architecture (e.g. initializing a BertForSequenceClassification model from a BertForPreTraining model).\n",
      "- This IS NOT expected if you are initializing RobertaForSequenceClassification from the checkpoint of a model that you expect to be exactly identical (initializing a BertForSequenceClassification model from a BertForSequenceClassification model).\n",
      "Some weights of RobertaForSequenceClassification were not initialized from the model checkpoint at distilroberta-base and are newly initialized: ['classifier.dense.weight', 'classifier.out_proj.weight', 'classifier.out_proj.bias', 'classifier.dense.bias']\n",
      "You should probably TRAIN this model on a down-stream task to be able to use it for predictions and inference.\n"
     ]
    }
   ],
   "metadata": {}
  },
  {
   "cell_type": "code",
   "execution_count": 19,
   "source": [
    "def tokenize(batch):\r\n",
    "    return tokenizer(batch['text'],padding=True,truncation=True)\r\n",
    "\r\n",
    "clinc.reset_format()"
   ],
   "outputs": [],
   "metadata": {}
  },
  {
   "cell_type": "code",
   "execution_count": 20,
   "source": [
    "clinc.rename_column_('intent','labels')"
   ],
   "outputs": [
    {
     "output_type": "stream",
     "name": "stderr",
     "text": [
      "C:\\Users\\Subha\\.conda\\envs\\nlp\\lib\\site-packages\\ipykernel_launcher.py:1: FutureWarning: rename_column_ is deprecated and will be removed in the next major version of datasets. Use DatasetDict.rename_column instead.\n",
      "  \"\"\"Entry point for launching an IPython kernel.\n"
     ]
    }
   ],
   "metadata": {}
  },
  {
   "cell_type": "code",
   "execution_count": 21,
   "source": [
    "clinc"
   ],
   "outputs": [
    {
     "output_type": "execute_result",
     "data": {
      "text/plain": [
       "DatasetDict({\n",
       "    train: Dataset({\n",
       "        features: ['text', 'labels'],\n",
       "        num_rows: 15250\n",
       "    })\n",
       "    validation: Dataset({\n",
       "        features: ['text', 'labels'],\n",
       "        num_rows: 3100\n",
       "    })\n",
       "    test: Dataset({\n",
       "        features: ['text', 'labels'],\n",
       "        num_rows: 5500\n",
       "    })\n",
       "})"
      ]
     },
     "metadata": {},
     "execution_count": 21
    }
   ],
   "metadata": {}
  },
  {
   "cell_type": "code",
   "execution_count": 22,
   "source": [
    "# Tokenize using the DatasetDict features\r\n",
    "\r\n",
    "clinc_encoded = clinc.map(tokenize,batched=True,batch_size=None)"
   ],
   "outputs": [
    {
     "output_type": "stream",
     "name": "stderr",
     "text": [
      "100%|██████████| 1/1 [00:00<00:00,  1.52ba/s]\n",
      "100%|██████████| 1/1 [00:00<00:00, 12.34ba/s]\n",
      "100%|██████████| 1/1 [00:00<00:00,  6.94ba/s]\n"
     ]
    }
   ],
   "metadata": {}
  },
  {
   "cell_type": "code",
   "execution_count": 23,
   "source": [
    "clinc_encoded['train'].features"
   ],
   "outputs": [
    {
     "output_type": "execute_result",
     "data": {
      "text/plain": [
       "{'attention_mask': Sequence(feature=Value(dtype='int8', id=None), length=-1, id=None),\n",
       " 'input_ids': Sequence(feature=Value(dtype='int32', id=None), length=-1, id=None),\n",
       " 'labels': ClassLabel(num_classes=151, names=['restaurant_reviews', 'nutrition_info', 'account_blocked', 'oil_change_how', 'time', 'weather', 'redeem_rewards', 'interest_rate', 'gas_type', 'accept_reservations', 'smart_home', 'user_name', 'report_lost_card', 'repeat', 'whisper_mode', 'what_are_your_hobbies', 'order', 'jump_start', 'schedule_meeting', 'meeting_schedule', 'freeze_account', 'what_song', 'meaning_of_life', 'restaurant_reservation', 'traffic', 'make_call', 'text', 'bill_balance', 'improve_credit_score', 'change_language', 'no', 'measurement_conversion', 'timer', 'flip_coin', 'do_you_have_pets', 'balance', 'tell_joke', 'last_maintenance', 'exchange_rate', 'uber', 'car_rental', 'credit_limit', 'oos', 'shopping_list', 'expiration_date', 'routing', 'meal_suggestion', 'tire_change', 'todo_list', 'card_declined', 'rewards_balance', 'change_accent', 'vaccines', 'reminder_update', 'food_last', 'change_ai_name', 'bill_due', 'who_do_you_work_for', 'share_location', 'international_visa', 'calendar', 'translate', 'carry_on', 'book_flight', 'insurance_change', 'todo_list_update', 'timezone', 'cancel_reservation', 'transactions', 'credit_score', 'report_fraud', 'spending_history', 'directions', 'spelling', 'insurance', 'what_is_your_name', 'reminder', 'where_are_you_from', 'distance', 'payday', 'flight_status', 'find_phone', 'greeting', 'alarm', 'order_status', 'confirm_reservation', 'cook_time', 'damaged_card', 'reset_settings', 'pin_change', 'replacement_card_duration', 'new_card', 'roll_dice', 'income', 'taxes', 'date', 'who_made_you', 'pto_request', 'tire_pressure', 'how_old_are_you', 'rollover_401k', 'pto_request_status', 'how_busy', 'application_status', 'recipe', 'calendar_update', 'play_music', 'yes', 'direct_deposit', 'credit_limit_change', 'gas', 'pay_bill', 'ingredients_list', 'lost_luggage', 'goodbye', 'what_can_i_ask_you', 'book_hotel', 'are_you_a_bot', 'next_song', 'change_speed', 'plug_type', 'maybe', 'w2', 'oil_change_when', 'thank_you', 'shopping_list_update', 'pto_balance', 'order_checks', 'travel_alert', 'fun_fact', 'sync_device', 'schedule_maintenance', 'apr', 'transfer', 'ingredient_substitution', 'calories', 'current_location', 'international_fees', 'calculator', 'definition', 'next_holiday', 'update_playlist', 'mpg', 'min_payment', 'change_user_name', 'restaurant_suggestion', 'travel_notification', 'cancel', 'pto_used', 'travel_suggestion', 'change_volume'], names_file=None, id=None),\n",
       " 'text': Value(dtype='string', id=None)}"
      ]
     },
     "metadata": {},
     "execution_count": 23
    }
   ],
   "metadata": {}
  },
  {
   "cell_type": "code",
   "execution_count": 24,
   "source": [
    "# Convert format to Torch Tensors for training the model\r\n",
    "\r\n",
    "clinc_encoded.set_format('torch',columns=['input_ids','attention_mask','labels'])"
   ],
   "outputs": [],
   "metadata": {}
  },
  {
   "cell_type": "code",
   "execution_count": 25,
   "source": [
    "clinc_encoded['train'][0]"
   ],
   "outputs": [
    {
     "output_type": "execute_result",
     "data": {
      "text/plain": [
       "{'attention_mask': tensor([1, 1, 1, 1, 1, 1, 1, 1, 1, 1, 1, 1, 1, 1, 1, 1, 1, 1, 0, 0, 0, 0, 0, 0,\n",
       "         0, 0, 0, 0, 0, 0, 0, 0, 0, 0, 0, 0, 0]),\n",
       " 'input_ids': tensor([    0, 12196,  8151,    74,   939,   304,     7,   224,   939,   657,\n",
       "            47,   114,   939,    58,    41,    24, 21999,     2,     1,     1,\n",
       "             1,     1,     1,     1,     1,     1,     1,     1,     1,     1,\n",
       "             1,     1,     1,     1,     1,     1,     1]),\n",
       " 'labels': tensor(61)}"
      ]
     },
     "metadata": {},
     "execution_count": 25
    }
   ],
   "metadata": {}
  },
  {
   "cell_type": "code",
   "execution_count": 26,
   "source": [
    "# Define Metrics\r\n",
    "\r\n",
    "def compute_metrics(p):\r\n",
    "    pred, labels = p\r\n",
    "    pred = np.argmax(pred, axis=1)\r\n",
    "    # wandb.log({\"cm\": wandb.sklearn.plot_confusion_matrix(labels, pred)})\r\n",
    "\r\n",
    "    accuracy = accuracy_score(y_true=labels, y_pred=pred)\r\n",
    "    recall = recall_score(y_true=labels, y_pred=pred,average=\"weighted\")\r\n",
    "    precision = precision_score(y_true=labels, y_pred=pred,average=\"weighted\")\r\n",
    "    f1 = f1_score(y_true=labels, y_pred=pred,average=\"weighted\")\r\n",
    "\r\n",
    "    return {\"accuracy\": accuracy, \"precision\": precision, \"recall\": recall, \"f1\": f1}"
   ],
   "outputs": [],
   "metadata": {}
  },
  {
   "cell_type": "code",
   "execution_count": 27,
   "source": [
    "clinc_encoded"
   ],
   "outputs": [
    {
     "output_type": "execute_result",
     "data": {
      "text/plain": [
       "DatasetDict({\n",
       "    train: Dataset({\n",
       "        features: ['attention_mask', 'input_ids', 'labels', 'text'],\n",
       "        num_rows: 15250\n",
       "    })\n",
       "    validation: Dataset({\n",
       "        features: ['attention_mask', 'input_ids', 'labels', 'text'],\n",
       "        num_rows: 3100\n",
       "    })\n",
       "    test: Dataset({\n",
       "        features: ['attention_mask', 'input_ids', 'labels', 'text'],\n",
       "        num_rows: 5500\n",
       "    })\n",
       "})"
      ]
     },
     "metadata": {},
     "execution_count": 27
    }
   ],
   "metadata": {}
  },
  {
   "cell_type": "code",
   "execution_count": 28,
   "source": [
    "# Define Trainer\r\n",
    "logging_steps = len(clinc_encoded['train']) // 32\r\n",
    "# print(logging_steps)\r\n",
    "wandb_run_name = \"intent-detection-clinc\"\r\n",
    "\r\n",
    "args = TrainingArguments(\r\n",
    "    report_to = 'wandb',  \r\n",
    "    output_dir=f\"results-{MODEL_NAME}\",\r\n",
    "    overwrite_output_dir = True,\r\n",
    "    evaluation_strategy=\"steps\",\r\n",
    "    warmup_steps = 250,\r\n",
    "    # label_smoothing_factor = 0.8,\r\n",
    "    per_device_train_batch_size=32,\r\n",
    "    per_device_eval_batch_size=32,\r\n",
    "    num_train_epochs=3,\r\n",
    "    # save_strategy='epoch',\r\n",
    "    save_steps=logging_steps*2,\r\n",
    "    save_total_limit=3,\r\n",
    "    seed=RANDOM_SEED,\r\n",
    "    learning_rate=5e-5,\r\n",
    "    fp16=True,\r\n",
    "    weight_decay=0.01,\r\n",
    "    metric_for_best_model=\"f1\",\r\n",
    "    load_best_model_at_end=True,\r\n",
    "    logging_steps = logging_steps,\r\n",
    "    run_name = wandb_run_name\r\n",
    ")"
   ],
   "outputs": [],
   "metadata": {}
  },
  {
   "cell_type": "code",
   "execution_count": 29,
   "source": [
    "trainer = Trainer(\r\n",
    "    model=model,\r\n",
    "    args=args,\r\n",
    "    train_dataset=clinc_encoded['train'],\r\n",
    "    eval_dataset=clinc_encoded['validation'],\r\n",
    "    compute_metrics=compute_metrics\r\n",
    ")\r\n",
    "\r\n",
    "# Train pre-trained model\r\n",
    "trainer.train()"
   ],
   "outputs": [
    {
     "output_type": "stream",
     "name": "stderr",
     "text": [
      "Using amp fp16 backend\n",
      "The following columns in the training set  don't have a corresponding argument in `RobertaForSequenceClassification.forward` and have been ignored: text.\n",
      "***** Running training *****\n",
      "  Num examples = 15250\n",
      "  Num Epochs = 3\n",
      "  Instantaneous batch size per device = 32\n",
      "  Total train batch size (w. parallel, distributed & accumulation) = 32\n",
      "  Gradient Accumulation steps = 1\n",
      "  Total optimization steps = 1431\n",
      "Automatic Weights & Biases logging enabled, to disable set os.environ[\"WANDB_DISABLED\"] = \"true\"\n"
     ]
    },
    {
     "output_type": "display_data",
     "data": {
      "text/html": [
       "\n",
       "                Tracking run with wandb version 0.12.2<br/>\n",
       "                Syncing run <strong style=\"color:#cdcd00\">intent-detection-clinc</strong> to <a href=\"https://wandb.ai\" target=\"_blank\">Weights & Biases</a> <a href=\"https://docs.wandb.com/integrations/jupyter.html\" target=\"_blank\">(Documentation)</a>.<br/>\n",
       "                Project page: <a href=\"https://wandb.ai/subhasisj/huggingface\" target=\"_blank\">https://wandb.ai/subhasisj/huggingface</a><br/>\n",
       "                Run page: <a href=\"https://wandb.ai/subhasisj/huggingface/runs/w6j2h521\" target=\"_blank\">https://wandb.ai/subhasisj/huggingface/runs/w6j2h521</a><br/>\n",
       "                Run data is saved locally in <code>d:\\Repositories\\NLP-MLOps-Pipeline\\Notebooks\\wandb\\run-20210917_164307-w6j2h521</code><br/><br/>\n",
       "            "
      ],
      "text/plain": [
       "<IPython.core.display.HTML object>"
      ]
     },
     "metadata": {}
    },
    {
     "output_type": "stream",
     "name": "stderr",
     "text": [
      " 33%|███▎      | 476/1431 [01:34<03:27,  4.61it/s]The following columns in the evaluation set  don't have a corresponding argument in `RobertaForSequenceClassification.forward` and have been ignored: text.\n",
      "***** Running Evaluation *****\n",
      "  Num examples = 3100\n",
      "  Batch size = 32\n"
     ]
    },
    {
     "output_type": "stream",
     "name": "stdout",
     "text": [
      "{'loss': 3.1212, 'learning_rate': 4.0431837425910246e-05, 'epoch': 1.0}\n"
     ]
    },
    {
     "output_type": "stream",
     "name": "stderr",
     "text": [
      "C:\\Users\\Subha\\.conda\\envs\\nlp\\lib\\site-packages\\sklearn\\metrics\\_classification.py:1248: UndefinedMetricWarning: Precision is ill-defined and being set to 0.0 in labels with no predicted samples. Use `zero_division` parameter to control this behavior.\n",
      "  _warn_prf(average, modifier, msg_start, len(result))\n",
      "\n",
      " 33%|███▎      | 476/1431 [01:43<03:27,  4.61it/s]Saving model checkpoint to results-distilroberta-base\\checkpoint-476\n",
      "Configuration saved in results-distilroberta-base\\checkpoint-476\\config.json\n"
     ]
    },
    {
     "output_type": "stream",
     "name": "stdout",
     "text": [
      "{'eval_loss': 0.9546356201171875, 'eval_accuracy': 0.8735483870967742, 'eval_precision': 0.8822254746659711, 'eval_recall': 0.8735483870967742, 'eval_f1': 0.861583540856364, 'eval_runtime': 9.0125, 'eval_samples_per_second': 343.965, 'eval_steps_per_second': 10.763, 'epoch': 1.0}\n"
     ]
    },
    {
     "output_type": "stream",
     "name": "stderr",
     "text": [
      "Model weights saved in results-distilroberta-base\\checkpoint-476\\pytorch_model.bin\n",
      " 67%|██████▋   | 952/1431 [03:19<01:51,  4.30it/s]The following columns in the evaluation set  don't have a corresponding argument in `RobertaForSequenceClassification.forward` and have been ignored: text.\n",
      "***** Running Evaluation *****\n",
      "  Num examples = 3100\n",
      "  Batch size = 32\n"
     ]
    },
    {
     "output_type": "stream",
     "name": "stdout",
     "text": [
      "{'loss': 0.5259, 'learning_rate': 2.0321761219305676e-05, 'epoch': 2.0}\n"
     ]
    },
    {
     "output_type": "stream",
     "name": "stderr",
     "text": [
      "\n",
      " 67%|██████▋   | 952/1431 [03:27<01:51,  4.30it/s]Saving model checkpoint to results-distilroberta-base\\checkpoint-952\n",
      "Configuration saved in results-distilroberta-base\\checkpoint-952\\config.json\n"
     ]
    },
    {
     "output_type": "stream",
     "name": "stdout",
     "text": [
      "{'eval_loss': 0.3473324775695801, 'eval_accuracy': 0.9367741935483871, 'eval_precision': 0.9409859491790904, 'eval_recall': 0.9367741935483871, 'eval_f1': 0.9359085774733147, 'eval_runtime': 7.6477, 'eval_samples_per_second': 405.352, 'eval_steps_per_second': 12.684, 'epoch': 2.0}\n"
     ]
    },
    {
     "output_type": "stream",
     "name": "stderr",
     "text": [
      "Model weights saved in results-distilroberta-base\\checkpoint-952\\pytorch_model.bin\n",
      "100%|█████████▉| 1428/1431 [04:53<00:00,  5.09it/s]The following columns in the evaluation set  don't have a corresponding argument in `RobertaForSequenceClassification.forward` and have been ignored: text.\n",
      "***** Running Evaluation *****\n",
      "  Num examples = 3100\n",
      "  Batch size = 32\n",
      "\n"
     ]
    },
    {
     "output_type": "stream",
     "name": "stdout",
     "text": [
      "{'loss': 0.1822, 'learning_rate': 1.6934801016088062e-07, 'epoch': 2.99}\n"
     ]
    },
    {
     "output_type": "stream",
     "name": "stderr",
     "text": [
      "\n",
      "100%|█████████▉| 1428/1431 [05:01<00:00,  5.09it/s]Saving model checkpoint to results-distilroberta-base\\checkpoint-1428\n",
      "Configuration saved in results-distilroberta-base\\checkpoint-1428\\config.json\n"
     ]
    },
    {
     "output_type": "stream",
     "name": "stdout",
     "text": [
      "{'eval_loss': 0.2748606503009796, 'eval_accuracy': 0.9461290322580646, 'eval_precision': 0.9483805783330532, 'eval_recall': 0.9461290322580646, 'eval_f1': 0.9453642528474572, 'eval_runtime': 8.3574, 'eval_samples_per_second': 370.928, 'eval_steps_per_second': 11.606, 'epoch': 2.99}\n"
     ]
    },
    {
     "output_type": "stream",
     "name": "stderr",
     "text": [
      "Model weights saved in results-distilroberta-base\\checkpoint-1428\\pytorch_model.bin\n",
      "100%|██████████| 1431/1431 [05:11<00:00,  2.75s/it]\n",
      "\n",
      "Training completed. Do not forget to share your model on huggingface.co/models =)\n",
      "\n",
      "\n",
      "Loading best model from results-distilroberta-base\\checkpoint-1428 (score: 0.9453642528474572).\n",
      "100%|██████████| 1431/1431 [05:11<00:00,  4.59it/s]"
     ]
    },
    {
     "output_type": "stream",
     "name": "stdout",
     "text": [
      "{'train_runtime': 320.1713, 'train_samples_per_second': 142.892, 'train_steps_per_second': 4.469, 'train_loss': 1.2740163402404092, 'epoch': 3.0}\n"
     ]
    },
    {
     "output_type": "stream",
     "name": "stderr",
     "text": [
      "\n"
     ]
    },
    {
     "output_type": "execute_result",
     "data": {
      "text/plain": [
       "TrainOutput(global_step=1431, training_loss=1.2740163402404092, metrics={'train_runtime': 320.1713, 'train_samples_per_second': 142.892, 'train_steps_per_second': 4.469, 'train_loss': 1.2740163402404092, 'epoch': 3.0})"
      ]
     },
     "metadata": {},
     "execution_count": 29
    }
   ],
   "metadata": {}
  },
  {
   "cell_type": "code",
   "execution_count": 30,
   "source": [
    "trainer.evaluate()"
   ],
   "outputs": [
    {
     "output_type": "stream",
     "name": "stderr",
     "text": [
      "The following columns in the evaluation set  don't have a corresponding argument in `RobertaForSequenceClassification.forward` and have been ignored: text.\n",
      "***** Running Evaluation *****\n",
      "  Num examples = 3100\n",
      "  Batch size = 32\n",
      "100%|██████████| 97/97 [00:09<00:00, 10.49it/s]\n"
     ]
    },
    {
     "output_type": "execute_result",
     "data": {
      "text/plain": [
       "{'eval_loss': 0.2748606503009796,\n",
       " 'eval_accuracy': 0.9461290322580646,\n",
       " 'eval_precision': 0.9483805783330532,\n",
       " 'eval_recall': 0.9461290322580646,\n",
       " 'eval_f1': 0.9453642528474572,\n",
       " 'eval_runtime': 9.361,\n",
       " 'eval_samples_per_second': 331.16,\n",
       " 'eval_steps_per_second': 10.362,\n",
       " 'epoch': 3.0}"
      ]
     },
     "metadata": {},
     "execution_count": 30
    }
   ],
   "metadata": {}
  },
  {
   "cell_type": "code",
   "execution_count": 31,
   "source": [
    "test_preds = trainer.predict(clinc_encoded['test'])"
   ],
   "outputs": [
    {
     "output_type": "stream",
     "name": "stderr",
     "text": [
      "The following columns in the test set  don't have a corresponding argument in `RobertaForSequenceClassification.forward` and have been ignored: text.\n",
      "***** Running Prediction *****\n",
      "  Num examples = 5500\n",
      "  Batch size = 32\n",
      " 99%|█████████▉| 171/172 [00:14<00:00, 12.23it/s]"
     ]
    }
   ],
   "metadata": {}
  },
  {
   "cell_type": "code",
   "execution_count": 32,
   "source": [
    "test_preds.metrics"
   ],
   "outputs": [
    {
     "output_type": "execute_result",
     "data": {
      "text/plain": [
       "{'test_loss': 0.5878262519836426,\n",
       " 'test_accuracy': 0.8858181818181818,\n",
       " 'test_precision': 0.9022512278046637,\n",
       " 'test_recall': 0.8858181818181818,\n",
       " 'test_f1': 0.8798076120419426,\n",
       " 'test_runtime': 14.6204,\n",
       " 'test_samples_per_second': 376.187,\n",
       " 'test_steps_per_second': 11.764}"
      ]
     },
     "metadata": {},
     "execution_count": 32
    }
   ],
   "metadata": {}
  },
  {
   "cell_type": "code",
   "execution_count": 33,
   "source": [
    "labels = clinc_encoded['test'].features['labels'].names"
   ],
   "outputs": [],
   "metadata": {}
  },
  {
   "cell_type": "code",
   "execution_count": 34,
   "source": [
    "def label_int2str(row,split):\r\n",
    "    return clinc[split].features[\"labels\"].int2str(row)\r\n",
    "\r\n",
    "label_int2str(0,'test')"
   ],
   "outputs": [
    {
     "output_type": "execute_result",
     "data": {
      "text/plain": [
       "'restaurant_reviews'"
      ]
     },
     "metadata": {},
     "execution_count": 34
    }
   ],
   "metadata": {}
  },
  {
   "cell_type": "code",
   "execution_count": 35,
   "source": [
    "from sklearn.metrics import classification_report\r\n",
    "\r\n",
    "y_preds = np.argmax(test_preds.predictions,axis=1)\r\n",
    "y_test = np.array(clinc_encoded['test']['labels'])\r\n",
    "\r\n",
    "print(classification_report(y_test,y_preds,target_names=labels))"
   ],
   "outputs": [
    {
     "output_type": "stream",
     "name": "stdout",
     "text": [
      "                           precision    recall  f1-score   support\n",
      "\n",
      "       restaurant_reviews       0.91      0.97      0.94        30\n",
      "           nutrition_info       0.88      1.00      0.94        30\n",
      "          account_blocked       0.96      0.83      0.89        30\n",
      "           oil_change_how       0.78      0.97      0.87        30\n",
      "                     time       0.90      0.93      0.92        30\n",
      "                  weather       0.67      1.00      0.80        30\n",
      "           redeem_rewards       0.96      0.83      0.89        30\n",
      "            interest_rate       0.85      0.97      0.91        30\n",
      "                 gas_type       0.86      1.00      0.92        30\n",
      "      accept_reservations       0.93      0.90      0.92        30\n",
      "               smart_home       0.71      0.97      0.82        30\n",
      "                user_name       0.94      0.97      0.95        30\n",
      "         report_lost_card       0.93      0.90      0.92        30\n",
      "                   repeat       0.97      0.97      0.97        30\n",
      "             whisper_mode       0.83      1.00      0.91        30\n",
      "    what_are_your_hobbies       0.83      1.00      0.91        30\n",
      "                    order       0.49      0.87      0.63        30\n",
      "               jump_start       0.75      1.00      0.86        30\n",
      "         schedule_meeting       0.94      1.00      0.97        30\n",
      "         meeting_schedule       0.94      0.97      0.95        30\n",
      "           freeze_account       0.71      1.00      0.83        30\n",
      "                what_song       0.91      1.00      0.95        30\n",
      "          meaning_of_life       0.96      0.90      0.93        30\n",
      "   restaurant_reservation       0.82      0.93      0.87        30\n",
      "                  traffic       0.88      1.00      0.94        30\n",
      "                make_call       0.74      0.97      0.84        30\n",
      "                     text       0.69      0.90      0.78        30\n",
      "             bill_balance       0.88      0.93      0.90        30\n",
      "     improve_credit_score       0.91      1.00      0.95        30\n",
      "          change_language       0.88      1.00      0.94        30\n",
      "                       no       0.94      1.00      0.97        30\n",
      "   measurement_conversion       0.88      0.93      0.90        30\n",
      "                    timer       0.91      0.97      0.94        30\n",
      "                flip_coin       0.97      1.00      0.98        30\n",
      "         do_you_have_pets       0.88      1.00      0.94        30\n",
      "                  balance       0.78      0.97      0.87        30\n",
      "                tell_joke       1.00      1.00      1.00        30\n",
      "         last_maintenance       0.79      1.00      0.88        30\n",
      "            exchange_rate       0.97      1.00      0.98        30\n",
      "                     uber       0.97      1.00      0.98        30\n",
      "               car_rental       0.83      1.00      0.91        30\n",
      "             credit_limit       0.88      0.93      0.90        30\n",
      "                      oos       0.98      0.56      0.71      1000\n",
      "            shopping_list       0.83      0.80      0.81        30\n",
      "          expiration_date       0.88      0.93      0.90        30\n",
      "                  routing       1.00      1.00      1.00        30\n",
      "          meal_suggestion       0.75      0.90      0.82        30\n",
      "              tire_change       0.97      0.97      0.97        30\n",
      "                todo_list       0.91      0.97      0.94        30\n",
      "            card_declined       0.97      0.93      0.95        30\n",
      "          rewards_balance       0.86      1.00      0.92        30\n",
      "            change_accent       1.00      1.00      1.00        30\n",
      "                 vaccines       0.79      1.00      0.88        30\n",
      "          reminder_update       0.96      0.90      0.93        30\n",
      "                food_last       0.94      0.97      0.95        30\n",
      "           change_ai_name       0.78      0.97      0.87        30\n",
      "                 bill_due       0.83      0.97      0.89        30\n",
      "      who_do_you_work_for       0.68      0.93      0.79        30\n",
      "           share_location       0.76      0.87      0.81        30\n",
      "       international_visa       0.97      1.00      0.98        30\n",
      "                 calendar       0.88      0.77      0.82        30\n",
      "                translate       0.88      0.97      0.92        30\n",
      "                 carry_on       1.00      0.93      0.97        30\n",
      "              book_flight       0.97      0.97      0.97        30\n",
      "         insurance_change       0.88      0.97      0.92        30\n",
      "         todo_list_update       0.94      0.97      0.95        30\n",
      "                 timezone       1.00      0.97      0.98        30\n",
      "       cancel_reservation       0.91      1.00      0.95        30\n",
      "             transactions       0.92      0.77      0.84        30\n",
      "             credit_score       1.00      0.97      0.98        30\n",
      "             report_fraud       0.88      0.93      0.90        30\n",
      "         spending_history       0.71      1.00      0.83        30\n",
      "               directions       0.57      1.00      0.72        30\n",
      "                 spelling       0.85      0.97      0.91        30\n",
      "                insurance       0.97      1.00      0.98        30\n",
      "        what_is_your_name       0.96      0.90      0.93        30\n",
      "                 reminder       0.97      1.00      0.98        30\n",
      "       where_are_you_from       0.94      0.97      0.95        30\n",
      "                 distance       0.79      0.90      0.84        30\n",
      "                   payday       1.00      0.97      0.98        30\n",
      "            flight_status       0.94      1.00      0.97        30\n",
      "               find_phone       0.86      1.00      0.92        30\n",
      "                 greeting       0.94      0.97      0.95        30\n",
      "                    alarm       0.91      1.00      0.95        30\n",
      "             order_status       0.83      1.00      0.91        30\n",
      "      confirm_reservation       0.97      1.00      0.98        30\n",
      "                cook_time       0.93      0.93      0.93        30\n",
      "             damaged_card       0.94      1.00      0.97        30\n",
      "           reset_settings       1.00      1.00      1.00        30\n",
      "               pin_change       0.96      0.83      0.89        30\n",
      "replacement_card_duration       0.84      0.87      0.85        30\n",
      "                 new_card       0.90      0.93      0.92        30\n",
      "                roll_dice       0.97      1.00      0.98        30\n",
      "                   income       0.85      0.97      0.91        30\n",
      "                    taxes       0.97      1.00      0.98        30\n",
      "                     date       0.94      0.97      0.95        30\n",
      "             who_made_you       0.86      1.00      0.92        30\n",
      "              pto_request       0.89      0.83      0.86        30\n",
      "            tire_pressure       0.91      1.00      0.95        30\n",
      "          how_old_are_you       0.88      0.97      0.92        30\n",
      "            rollover_401k       0.97      1.00      0.98        30\n",
      "       pto_request_status       0.85      0.93      0.89        30\n",
      "                 how_busy       0.96      0.90      0.93        30\n",
      "       application_status       0.94      1.00      0.97        30\n",
      "                   recipe       0.76      0.93      0.84        30\n",
      "          calendar_update       0.78      0.93      0.85        30\n",
      "               play_music       0.82      0.90      0.86        30\n",
      "                      yes       0.96      0.87      0.91        30\n",
      "           direct_deposit       0.86      1.00      0.92        30\n",
      "      credit_limit_change       0.94      0.97      0.95        30\n",
      "                      gas       0.86      1.00      0.92        30\n",
      "                 pay_bill       0.93      0.93      0.93        30\n",
      "         ingredients_list       0.83      0.83      0.83        30\n",
      "             lost_luggage       0.97      1.00      0.98        30\n",
      "                  goodbye       0.93      0.93      0.93        30\n",
      "       what_can_i_ask_you       0.91      0.97      0.94        30\n",
      "               book_hotel       0.91      1.00      0.95        30\n",
      "            are_you_a_bot       0.94      1.00      0.97        30\n",
      "                next_song       0.97      1.00      0.98        30\n",
      "             change_speed       0.88      0.97      0.92        30\n",
      "                plug_type       0.88      0.97      0.92        30\n",
      "                    maybe       0.94      0.97      0.95        30\n",
      "                       w2       0.97      1.00      0.98        30\n",
      "          oil_change_when       0.85      0.93      0.89        30\n",
      "                thank_you       0.97      0.97      0.97        30\n",
      "     shopping_list_update       0.88      0.93      0.90        30\n",
      "              pto_balance       0.85      0.97      0.91        30\n",
      "             order_checks       1.00      1.00      1.00        30\n",
      "             travel_alert       0.94      0.97      0.95        30\n",
      "                 fun_fact       0.91      1.00      0.95        30\n",
      "              sync_device       0.71      1.00      0.83        30\n",
      "     schedule_maintenance       0.72      0.97      0.83        30\n",
      "                      apr       0.83      1.00      0.91        30\n",
      "                 transfer       1.00      0.97      0.98        30\n",
      "  ingredient_substitution       0.91      1.00      0.95        30\n",
      "                 calories       0.91      1.00      0.95        30\n",
      "         current_location       0.83      0.97      0.89        30\n",
      "       international_fees       0.91      1.00      0.95        30\n",
      "               calculator       0.85      0.93      0.89        30\n",
      "               definition       0.88      1.00      0.94        30\n",
      "             next_holiday       0.88      1.00      0.94        30\n",
      "          update_playlist       0.97      1.00      0.98        30\n",
      "                      mpg       0.83      1.00      0.91        30\n",
      "              min_payment       0.94      1.00      0.97        30\n",
      "         change_user_name       0.93      0.93      0.93        30\n",
      "    restaurant_suggestion       0.97      1.00      0.98        30\n",
      "      travel_notification       1.00      0.93      0.97        30\n",
      "                   cancel       0.72      0.97      0.83        30\n",
      "                 pto_used       0.90      0.93      0.92        30\n",
      "        travel_suggestion       0.72      0.97      0.83        30\n",
      "            change_volume       0.93      0.83      0.88        30\n",
      "\n",
      "                 accuracy                           0.89      5500\n",
      "                macro avg       0.89      0.96      0.92      5500\n",
      "             weighted avg       0.90      0.89      0.88      5500\n",
      "\n"
     ]
    }
   ],
   "metadata": {}
  },
  {
   "cell_type": "code",
   "execution_count": 36,
   "source": [
    "y_test = np.array(clinc_encoded['test']['labels'])\r\n",
    "wandb.log({\"test_set_cm\": wandb.sklearn.plot_confusion_matrix(y_test, y_preds)})"
   ],
   "outputs": [
    {
     "output_type": "stream",
     "name": "stderr",
     "text": [
      "\u001b[34m\u001b[1mwandb\u001b[0m: \u001b[33mWARNING\u001b[0m wandb uses only the first 10000 datapoints to create the plots.\n"
     ]
    }
   ],
   "metadata": {}
  },
  {
   "cell_type": "code",
   "execution_count": 37,
   "source": [
    "wandb.finish()"
   ],
   "outputs": [
    {
     "output_type": "display_data",
     "data": {
      "text/html": [
       "<br/>Waiting for W&B process to finish, PID 1248<br/>Program ended successfully."
      ],
      "text/plain": [
       "<IPython.core.display.HTML object>"
      ]
     },
     "metadata": {}
    },
    {
     "output_type": "display_data",
     "data": {
      "application/vnd.jupyter.widget-view+json": {
       "version_major": 2,
       "version_minor": 0,
       "model_id": "c7ae48cd0e614e879b00b2e5889d4b33"
      },
      "text/plain": [
       "VBox(children=(Label(value=' 0.01MB of 0.02MB uploaded (0.00MB deduped)\\r'), FloatProgress(value=0.52935323383…"
      ]
     },
     "metadata": {}
    },
    {
     "output_type": "display_data",
     "data": {
      "text/html": [
       "Find user logs for this run at: <code>d:\\Repositories\\NLP-MLOps-Pipeline\\Notebooks\\wandb\\run-20210917_164307-w6j2h521\\logs\\debug.log</code>"
      ],
      "text/plain": [
       "<IPython.core.display.HTML object>"
      ]
     },
     "metadata": {}
    },
    {
     "output_type": "display_data",
     "data": {
      "text/html": [
       "Find internal logs for this run at: <code>d:\\Repositories\\NLP-MLOps-Pipeline\\Notebooks\\wandb\\run-20210917_164307-w6j2h521\\logs\\debug-internal.log</code>"
      ],
      "text/plain": [
       "<IPython.core.display.HTML object>"
      ]
     },
     "metadata": {}
    },
    {
     "output_type": "display_data",
     "data": {
      "text/html": [
       "<h3>Run summary:</h3><br/><style>\n",
       "    table.wandb td:nth-child(1) { padding: 0 10px; text-align: right }\n",
       "    </style><table class=\"wandb\">\n",
       "<tr><td>eval/accuracy</td><td>0.94613</td></tr><tr><td>eval/f1</td><td>0.94536</td></tr><tr><td>eval/loss</td><td>0.27486</td></tr><tr><td>eval/precision</td><td>0.94838</td></tr><tr><td>eval/recall</td><td>0.94613</td></tr><tr><td>eval/runtime</td><td>9.361</td></tr><tr><td>eval/samples_per_second</td><td>331.16</td></tr><tr><td>eval/steps_per_second</td><td>10.362</td></tr><tr><td>train/epoch</td><td>3.0</td></tr><tr><td>train/global_step</td><td>1431</td></tr><tr><td>train/learning_rate</td><td>0.0</td></tr><tr><td>train/loss</td><td>0.1822</td></tr><tr><td>train/total_flos</td><td>439121142463500.0</td></tr><tr><td>train/train_loss</td><td>1.27402</td></tr><tr><td>train/train_runtime</td><td>320.1713</td></tr><tr><td>train/train_samples_per_second</td><td>142.892</td></tr><tr><td>train/train_steps_per_second</td><td>4.469</td></tr></table>"
      ],
      "text/plain": [
       "<IPython.core.display.HTML object>"
      ]
     },
     "metadata": {}
    },
    {
     "output_type": "display_data",
     "data": {
      "text/html": [
       "<h3>Run history:</h3><br/><style>\n",
       "    table.wandb td:nth-child(1) { padding: 0 10px; text-align: right }\n",
       "    </style><table class=\"wandb\">\n",
       "<tr><td>eval/accuracy</td><td>▁▇██</td></tr><tr><td>eval/f1</td><td>▁▇██</td></tr><tr><td>eval/loss</td><td>█▂▁▁</td></tr><tr><td>eval/precision</td><td>▁▇██</td></tr><tr><td>eval/recall</td><td>▁▇██</td></tr><tr><td>eval/runtime</td><td>▇▁▄█</td></tr><tr><td>eval/samples_per_second</td><td>▂█▅▁</td></tr><tr><td>eval/steps_per_second</td><td>▂█▅▁</td></tr><tr><td>train/epoch</td><td>▁▁▅▅████</td></tr><tr><td>train/global_step</td><td>▁▁▄▄██████</td></tr><tr><td>train/learning_rate</td><td>█▅▁</td></tr><tr><td>train/loss</td><td>█▂▁</td></tr><tr><td>train/total_flos</td><td>▁</td></tr><tr><td>train/train_loss</td><td>▁</td></tr><tr><td>train/train_runtime</td><td>▁</td></tr><tr><td>train/train_samples_per_second</td><td>▁</td></tr><tr><td>train/train_steps_per_second</td><td>▁</td></tr></table><br/>"
      ],
      "text/plain": [
       "<IPython.core.display.HTML object>"
      ]
     },
     "metadata": {}
    },
    {
     "output_type": "display_data",
     "data": {
      "text/html": [
       "Synced 5 W&B file(s), 1 media file(s), 1 artifact file(s) and 0 other file(s)"
      ],
      "text/plain": [
       "<IPython.core.display.HTML object>"
      ]
     },
     "metadata": {}
    },
    {
     "output_type": "display_data",
     "data": {
      "text/html": [
       "\n",
       "                    <br/>Synced <strong style=\"color:#cdcd00\">intent-detection-clinc</strong>: <a href=\"https://wandb.ai/subhasisj/huggingface/runs/w6j2h521\" target=\"_blank\">https://wandb.ai/subhasisj/huggingface/runs/w6j2h521</a><br/>\n",
       "                "
      ],
      "text/plain": [
       "<IPython.core.display.HTML object>"
      ]
     },
     "metadata": {}
    }
   ],
   "metadata": {}
  },
  {
   "cell_type": "markdown",
   "source": [
    "## Save Model"
   ],
   "metadata": {}
  },
  {
   "cell_type": "code",
   "execution_count": 38,
   "source": [
    "MODEL_DIR = os.path.join('models',f'{MODEL_NAME}')\r\n",
    "\r\n",
    "trainer.save_model(MODEL_DIR)\r\n",
    "tokenizer.save_pretrained(MODEL_DIR)"
   ],
   "outputs": [
    {
     "output_type": "stream",
     "name": "stderr",
     "text": [
      "Saving model checkpoint to models\\distilroberta-base\n",
      "Configuration saved in models\\distilroberta-base\\config.json\n",
      "Model weights saved in models\\distilroberta-base\\pytorch_model.bin\n",
      "tokenizer config file saved in models\\distilroberta-base\\tokenizer_config.json\n",
      "Special tokens file saved in models\\distilroberta-base\\special_tokens_map.json\n"
     ]
    },
    {
     "output_type": "execute_result",
     "data": {
      "text/plain": [
       "('models\\\\distilroberta-base\\\\tokenizer_config.json',\n",
       " 'models\\\\distilroberta-base\\\\special_tokens_map.json',\n",
       " 'models\\\\distilroberta-base\\\\vocab.json',\n",
       " 'models\\\\distilroberta-base\\\\merges.txt',\n",
       " 'models\\\\distilroberta-base\\\\added_tokens.json',\n",
       " 'models\\\\distilroberta-base\\\\tokenizer.json')"
      ]
     },
     "metadata": {},
     "execution_count": 38
    },
    {
     "output_type": "stream",
     "name": "stderr",
     "text": [
      "100%|██████████| 172/172 [00:29<00:00, 12.23it/s]"
     ]
    }
   ],
   "metadata": {}
  },
  {
   "cell_type": "markdown",
   "source": [
    "## Infer with Pipeline"
   ],
   "metadata": {}
  },
  {
   "cell_type": "code",
   "execution_count": 39,
   "source": [
    "model = AutoModelForSequenceClassification.from_pretrained(MODEL_DIR)\r\n",
    "model.to('cpu')\r\n",
    " \r\n",
    "pipe = TextClassificationPipeline(model = model,tokenizer= tokenizer)"
   ],
   "outputs": [
    {
     "output_type": "stream",
     "name": "stderr",
     "text": [
      "loading configuration file models\\distilroberta-base\\config.json\n",
      "Model config RobertaConfig {\n",
      "  \"_name_or_path\": \"distilroberta-base\",\n",
      "  \"architectures\": [\n",
      "    \"RobertaForSequenceClassification\"\n",
      "  ],\n",
      "  \"attention_probs_dropout_prob\": 0.1,\n",
      "  \"bos_token_id\": 0,\n",
      "  \"classifier_dropout\": null,\n",
      "  \"eos_token_id\": 2,\n",
      "  \"gradient_checkpointing\": false,\n",
      "  \"hidden_act\": \"gelu\",\n",
      "  \"hidden_dropout_prob\": 0.1,\n",
      "  \"hidden_size\": 768,\n",
      "  \"id2label\": {\n",
      "    \"0\": \"LABEL_0\",\n",
      "    \"1\": \"LABEL_1\",\n",
      "    \"2\": \"LABEL_2\",\n",
      "    \"3\": \"LABEL_3\",\n",
      "    \"4\": \"LABEL_4\",\n",
      "    \"5\": \"LABEL_5\",\n",
      "    \"6\": \"LABEL_6\",\n",
      "    \"7\": \"LABEL_7\",\n",
      "    \"8\": \"LABEL_8\",\n",
      "    \"9\": \"LABEL_9\",\n",
      "    \"10\": \"LABEL_10\",\n",
      "    \"11\": \"LABEL_11\",\n",
      "    \"12\": \"LABEL_12\",\n",
      "    \"13\": \"LABEL_13\",\n",
      "    \"14\": \"LABEL_14\",\n",
      "    \"15\": \"LABEL_15\",\n",
      "    \"16\": \"LABEL_16\",\n",
      "    \"17\": \"LABEL_17\",\n",
      "    \"18\": \"LABEL_18\",\n",
      "    \"19\": \"LABEL_19\",\n",
      "    \"20\": \"LABEL_20\",\n",
      "    \"21\": \"LABEL_21\",\n",
      "    \"22\": \"LABEL_22\",\n",
      "    \"23\": \"LABEL_23\",\n",
      "    \"24\": \"LABEL_24\",\n",
      "    \"25\": \"LABEL_25\",\n",
      "    \"26\": \"LABEL_26\",\n",
      "    \"27\": \"LABEL_27\",\n",
      "    \"28\": \"LABEL_28\",\n",
      "    \"29\": \"LABEL_29\",\n",
      "    \"30\": \"LABEL_30\",\n",
      "    \"31\": \"LABEL_31\",\n",
      "    \"32\": \"LABEL_32\",\n",
      "    \"33\": \"LABEL_33\",\n",
      "    \"34\": \"LABEL_34\",\n",
      "    \"35\": \"LABEL_35\",\n",
      "    \"36\": \"LABEL_36\",\n",
      "    \"37\": \"LABEL_37\",\n",
      "    \"38\": \"LABEL_38\",\n",
      "    \"39\": \"LABEL_39\",\n",
      "    \"40\": \"LABEL_40\",\n",
      "    \"41\": \"LABEL_41\",\n",
      "    \"42\": \"LABEL_42\",\n",
      "    \"43\": \"LABEL_43\",\n",
      "    \"44\": \"LABEL_44\",\n",
      "    \"45\": \"LABEL_45\",\n",
      "    \"46\": \"LABEL_46\",\n",
      "    \"47\": \"LABEL_47\",\n",
      "    \"48\": \"LABEL_48\",\n",
      "    \"49\": \"LABEL_49\",\n",
      "    \"50\": \"LABEL_50\",\n",
      "    \"51\": \"LABEL_51\",\n",
      "    \"52\": \"LABEL_52\",\n",
      "    \"53\": \"LABEL_53\",\n",
      "    \"54\": \"LABEL_54\",\n",
      "    \"55\": \"LABEL_55\",\n",
      "    \"56\": \"LABEL_56\",\n",
      "    \"57\": \"LABEL_57\",\n",
      "    \"58\": \"LABEL_58\",\n",
      "    \"59\": \"LABEL_59\",\n",
      "    \"60\": \"LABEL_60\",\n",
      "    \"61\": \"LABEL_61\",\n",
      "    \"62\": \"LABEL_62\",\n",
      "    \"63\": \"LABEL_63\",\n",
      "    \"64\": \"LABEL_64\",\n",
      "    \"65\": \"LABEL_65\",\n",
      "    \"66\": \"LABEL_66\",\n",
      "    \"67\": \"LABEL_67\",\n",
      "    \"68\": \"LABEL_68\",\n",
      "    \"69\": \"LABEL_69\",\n",
      "    \"70\": \"LABEL_70\",\n",
      "    \"71\": \"LABEL_71\",\n",
      "    \"72\": \"LABEL_72\",\n",
      "    \"73\": \"LABEL_73\",\n",
      "    \"74\": \"LABEL_74\",\n",
      "    \"75\": \"LABEL_75\",\n",
      "    \"76\": \"LABEL_76\",\n",
      "    \"77\": \"LABEL_77\",\n",
      "    \"78\": \"LABEL_78\",\n",
      "    \"79\": \"LABEL_79\",\n",
      "    \"80\": \"LABEL_80\",\n",
      "    \"81\": \"LABEL_81\",\n",
      "    \"82\": \"LABEL_82\",\n",
      "    \"83\": \"LABEL_83\",\n",
      "    \"84\": \"LABEL_84\",\n",
      "    \"85\": \"LABEL_85\",\n",
      "    \"86\": \"LABEL_86\",\n",
      "    \"87\": \"LABEL_87\",\n",
      "    \"88\": \"LABEL_88\",\n",
      "    \"89\": \"LABEL_89\",\n",
      "    \"90\": \"LABEL_90\",\n",
      "    \"91\": \"LABEL_91\",\n",
      "    \"92\": \"LABEL_92\",\n",
      "    \"93\": \"LABEL_93\",\n",
      "    \"94\": \"LABEL_94\",\n",
      "    \"95\": \"LABEL_95\",\n",
      "    \"96\": \"LABEL_96\",\n",
      "    \"97\": \"LABEL_97\",\n",
      "    \"98\": \"LABEL_98\",\n",
      "    \"99\": \"LABEL_99\",\n",
      "    \"100\": \"LABEL_100\",\n",
      "    \"101\": \"LABEL_101\",\n",
      "    \"102\": \"LABEL_102\",\n",
      "    \"103\": \"LABEL_103\",\n",
      "    \"104\": \"LABEL_104\",\n",
      "    \"105\": \"LABEL_105\",\n",
      "    \"106\": \"LABEL_106\",\n",
      "    \"107\": \"LABEL_107\",\n",
      "    \"108\": \"LABEL_108\",\n",
      "    \"109\": \"LABEL_109\",\n",
      "    \"110\": \"LABEL_110\",\n",
      "    \"111\": \"LABEL_111\",\n",
      "    \"112\": \"LABEL_112\",\n",
      "    \"113\": \"LABEL_113\",\n",
      "    \"114\": \"LABEL_114\",\n",
      "    \"115\": \"LABEL_115\",\n",
      "    \"116\": \"LABEL_116\",\n",
      "    \"117\": \"LABEL_117\",\n",
      "    \"118\": \"LABEL_118\",\n",
      "    \"119\": \"LABEL_119\",\n",
      "    \"120\": \"LABEL_120\",\n",
      "    \"121\": \"LABEL_121\",\n",
      "    \"122\": \"LABEL_122\",\n",
      "    \"123\": \"LABEL_123\",\n",
      "    \"124\": \"LABEL_124\",\n",
      "    \"125\": \"LABEL_125\",\n",
      "    \"126\": \"LABEL_126\",\n",
      "    \"127\": \"LABEL_127\",\n",
      "    \"128\": \"LABEL_128\",\n",
      "    \"129\": \"LABEL_129\",\n",
      "    \"130\": \"LABEL_130\",\n",
      "    \"131\": \"LABEL_131\",\n",
      "    \"132\": \"LABEL_132\",\n",
      "    \"133\": \"LABEL_133\",\n",
      "    \"134\": \"LABEL_134\",\n",
      "    \"135\": \"LABEL_135\",\n",
      "    \"136\": \"LABEL_136\",\n",
      "    \"137\": \"LABEL_137\",\n",
      "    \"138\": \"LABEL_138\",\n",
      "    \"139\": \"LABEL_139\",\n",
      "    \"140\": \"LABEL_140\",\n",
      "    \"141\": \"LABEL_141\",\n",
      "    \"142\": \"LABEL_142\",\n",
      "    \"143\": \"LABEL_143\",\n",
      "    \"144\": \"LABEL_144\",\n",
      "    \"145\": \"LABEL_145\",\n",
      "    \"146\": \"LABEL_146\",\n",
      "    \"147\": \"LABEL_147\",\n",
      "    \"148\": \"LABEL_148\",\n",
      "    \"149\": \"LABEL_149\",\n",
      "    \"150\": \"LABEL_150\"\n",
      "  },\n",
      "  \"initializer_range\": 0.02,\n",
      "  \"intermediate_size\": 3072,\n",
      "  \"label2id\": {\n",
      "    \"LABEL_0\": 0,\n",
      "    \"LABEL_1\": 1,\n",
      "    \"LABEL_10\": 10,\n",
      "    \"LABEL_100\": 100,\n",
      "    \"LABEL_101\": 101,\n",
      "    \"LABEL_102\": 102,\n",
      "    \"LABEL_103\": 103,\n",
      "    \"LABEL_104\": 104,\n",
      "    \"LABEL_105\": 105,\n",
      "    \"LABEL_106\": 106,\n",
      "    \"LABEL_107\": 107,\n",
      "    \"LABEL_108\": 108,\n",
      "    \"LABEL_109\": 109,\n",
      "    \"LABEL_11\": 11,\n",
      "    \"LABEL_110\": 110,\n",
      "    \"LABEL_111\": 111,\n",
      "    \"LABEL_112\": 112,\n",
      "    \"LABEL_113\": 113,\n",
      "    \"LABEL_114\": 114,\n",
      "    \"LABEL_115\": 115,\n",
      "    \"LABEL_116\": 116,\n",
      "    \"LABEL_117\": 117,\n",
      "    \"LABEL_118\": 118,\n",
      "    \"LABEL_119\": 119,\n",
      "    \"LABEL_12\": 12,\n",
      "    \"LABEL_120\": 120,\n",
      "    \"LABEL_121\": 121,\n",
      "    \"LABEL_122\": 122,\n",
      "    \"LABEL_123\": 123,\n",
      "    \"LABEL_124\": 124,\n",
      "    \"LABEL_125\": 125,\n",
      "    \"LABEL_126\": 126,\n",
      "    \"LABEL_127\": 127,\n",
      "    \"LABEL_128\": 128,\n",
      "    \"LABEL_129\": 129,\n",
      "    \"LABEL_13\": 13,\n",
      "    \"LABEL_130\": 130,\n",
      "    \"LABEL_131\": 131,\n",
      "    \"LABEL_132\": 132,\n",
      "    \"LABEL_133\": 133,\n",
      "    \"LABEL_134\": 134,\n",
      "    \"LABEL_135\": 135,\n",
      "    \"LABEL_136\": 136,\n",
      "    \"LABEL_137\": 137,\n",
      "    \"LABEL_138\": 138,\n",
      "    \"LABEL_139\": 139,\n",
      "    \"LABEL_14\": 14,\n",
      "    \"LABEL_140\": 140,\n",
      "    \"LABEL_141\": 141,\n",
      "    \"LABEL_142\": 142,\n",
      "    \"LABEL_143\": 143,\n",
      "    \"LABEL_144\": 144,\n",
      "    \"LABEL_145\": 145,\n",
      "    \"LABEL_146\": 146,\n",
      "    \"LABEL_147\": 147,\n",
      "    \"LABEL_148\": 148,\n",
      "    \"LABEL_149\": 149,\n",
      "    \"LABEL_15\": 15,\n",
      "    \"LABEL_150\": 150,\n",
      "    \"LABEL_16\": 16,\n",
      "    \"LABEL_17\": 17,\n",
      "    \"LABEL_18\": 18,\n",
      "    \"LABEL_19\": 19,\n",
      "    \"LABEL_2\": 2,\n",
      "    \"LABEL_20\": 20,\n",
      "    \"LABEL_21\": 21,\n",
      "    \"LABEL_22\": 22,\n",
      "    \"LABEL_23\": 23,\n",
      "    \"LABEL_24\": 24,\n",
      "    \"LABEL_25\": 25,\n",
      "    \"LABEL_26\": 26,\n",
      "    \"LABEL_27\": 27,\n",
      "    \"LABEL_28\": 28,\n",
      "    \"LABEL_29\": 29,\n",
      "    \"LABEL_3\": 3,\n",
      "    \"LABEL_30\": 30,\n",
      "    \"LABEL_31\": 31,\n",
      "    \"LABEL_32\": 32,\n",
      "    \"LABEL_33\": 33,\n",
      "    \"LABEL_34\": 34,\n",
      "    \"LABEL_35\": 35,\n",
      "    \"LABEL_36\": 36,\n",
      "    \"LABEL_37\": 37,\n",
      "    \"LABEL_38\": 38,\n",
      "    \"LABEL_39\": 39,\n",
      "    \"LABEL_4\": 4,\n",
      "    \"LABEL_40\": 40,\n",
      "    \"LABEL_41\": 41,\n",
      "    \"LABEL_42\": 42,\n",
      "    \"LABEL_43\": 43,\n",
      "    \"LABEL_44\": 44,\n",
      "    \"LABEL_45\": 45,\n",
      "    \"LABEL_46\": 46,\n",
      "    \"LABEL_47\": 47,\n",
      "    \"LABEL_48\": 48,\n",
      "    \"LABEL_49\": 49,\n",
      "    \"LABEL_5\": 5,\n",
      "    \"LABEL_50\": 50,\n",
      "    \"LABEL_51\": 51,\n",
      "    \"LABEL_52\": 52,\n",
      "    \"LABEL_53\": 53,\n",
      "    \"LABEL_54\": 54,\n",
      "    \"LABEL_55\": 55,\n",
      "    \"LABEL_56\": 56,\n",
      "    \"LABEL_57\": 57,\n",
      "    \"LABEL_58\": 58,\n",
      "    \"LABEL_59\": 59,\n",
      "    \"LABEL_6\": 6,\n",
      "    \"LABEL_60\": 60,\n",
      "    \"LABEL_61\": 61,\n",
      "    \"LABEL_62\": 62,\n",
      "    \"LABEL_63\": 63,\n",
      "    \"LABEL_64\": 64,\n",
      "    \"LABEL_65\": 65,\n",
      "    \"LABEL_66\": 66,\n",
      "    \"LABEL_67\": 67,\n",
      "    \"LABEL_68\": 68,\n",
      "    \"LABEL_69\": 69,\n",
      "    \"LABEL_7\": 7,\n",
      "    \"LABEL_70\": 70,\n",
      "    \"LABEL_71\": 71,\n",
      "    \"LABEL_72\": 72,\n",
      "    \"LABEL_73\": 73,\n",
      "    \"LABEL_74\": 74,\n",
      "    \"LABEL_75\": 75,\n",
      "    \"LABEL_76\": 76,\n",
      "    \"LABEL_77\": 77,\n",
      "    \"LABEL_78\": 78,\n",
      "    \"LABEL_79\": 79,\n",
      "    \"LABEL_8\": 8,\n",
      "    \"LABEL_80\": 80,\n",
      "    \"LABEL_81\": 81,\n",
      "    \"LABEL_82\": 82,\n",
      "    \"LABEL_83\": 83,\n",
      "    \"LABEL_84\": 84,\n",
      "    \"LABEL_85\": 85,\n",
      "    \"LABEL_86\": 86,\n",
      "    \"LABEL_87\": 87,\n",
      "    \"LABEL_88\": 88,\n",
      "    \"LABEL_89\": 89,\n",
      "    \"LABEL_9\": 9,\n",
      "    \"LABEL_90\": 90,\n",
      "    \"LABEL_91\": 91,\n",
      "    \"LABEL_92\": 92,\n",
      "    \"LABEL_93\": 93,\n",
      "    \"LABEL_94\": 94,\n",
      "    \"LABEL_95\": 95,\n",
      "    \"LABEL_96\": 96,\n",
      "    \"LABEL_97\": 97,\n",
      "    \"LABEL_98\": 98,\n",
      "    \"LABEL_99\": 99\n",
      "  },\n",
      "  \"layer_norm_eps\": 1e-05,\n",
      "  \"max_position_embeddings\": 514,\n",
      "  \"model_type\": \"roberta\",\n",
      "  \"num_attention_heads\": 12,\n",
      "  \"num_hidden_layers\": 6,\n",
      "  \"pad_token_id\": 1,\n",
      "  \"position_embedding_type\": \"absolute\",\n",
      "  \"problem_type\": \"single_label_classification\",\n",
      "  \"torch_dtype\": \"float32\",\n",
      "  \"transformers_version\": \"4.10.2\",\n",
      "  \"type_vocab_size\": 1,\n",
      "  \"use_cache\": true,\n",
      "  \"vocab_size\": 50265\n",
      "}\n",
      "\n",
      "loading weights file models\\distilroberta-base\\pytorch_model.bin\n",
      "All model checkpoint weights were used when initializing RobertaForSequenceClassification.\n",
      "\n",
      "All the weights of RobertaForSequenceClassification were initialized from the model checkpoint at models\\distilroberta-base.\n",
      "If your task is similar to the task the model of the checkpoint was trained on, you can already use RobertaForSequenceClassification for predictions without further training.\n"
     ]
    }
   ],
   "metadata": {}
  },
  {
   "cell_type": "code",
   "execution_count": 40,
   "source": [
    "pipe('I need to book a cab to the airport')"
   ],
   "outputs": [
    {
     "output_type": "execute_result",
     "data": {
      "text/plain": [
       "[{'label': 'LABEL_39', 'score': 0.7054201364517212}]"
      ]
     },
     "metadata": {},
     "execution_count": 40
    }
   ],
   "metadata": {}
  },
  {
   "cell_type": "code",
   "execution_count": 52,
   "source": [
    "train_dataset.features['intent'].int2str(39)"
   ],
   "outputs": [
    {
     "output_type": "execute_result",
     "data": {
      "text/plain": [
       "'uber'"
      ]
     },
     "metadata": {},
     "execution_count": 52
    }
   ],
   "metadata": {}
  },
  {
   "cell_type": "markdown",
   "source": [
    "## Check Metrics\r\n",
    "\r\n",
    "### Size, Accuracy, Latency"
   ],
   "metadata": {}
  },
  {
   "cell_type": "code",
   "execution_count": 60,
   "source": [
    "intents.int2str(61)"
   ],
   "outputs": [
    {
     "output_type": "execute_result",
     "data": {
      "text/plain": [
       "'translate'"
      ]
     },
     "metadata": {},
     "execution_count": 60
    }
   ],
   "metadata": {}
  },
  {
   "cell_type": "code",
   "execution_count": 64,
   "source": [
    "from pathlib import Path\r\n",
    "from time import perf_counter\r\n",
    "\r\n",
    "from datasets import load_metric\r\n",
    "accuracy_score = load_metric('accuracy')\r\n",
    "\r\n",
    "class PerformanceBenchmark:\r\n",
    "    def __init__(self, pipeline, dataset, optim_type=\"BERT baseline\"):\r\n",
    "        self.pipeline = pipeline\r\n",
    "        self.dataset = dataset\r\n",
    "        self.optim_type = optim_type\r\n",
    "\r\n",
    "    def compute_accuracy(self):\r\n",
    "        preds, labels = [], []\r\n",
    "        for example in self.dataset:\r\n",
    "            pred = self.pipeline(example[\"text\"])[0][\"label\"].split('_')[1]\r\n",
    "            label = example[\"labels\"]\r\n",
    "            # preds.append(intents.str2int(pred))\r\n",
    "            preds.append(pred)\r\n",
    "            labels.append(label)\r\n",
    "        accuracy = accuracy_score.compute(predictions=preds, references=labels)\r\n",
    "        print(f\"Accuracy on test set - {accuracy['accuracy']:.3f}\")\r\n",
    "        return accuracy\r\n",
    "\r\n",
    "    def compute_size(self):\r\n",
    "        state_dict = self.pipeline.model.state_dict()\r\n",
    "        tmp_path = Path(\"model.pt\")\r\n",
    "        torch.save(state_dict, tmp_path)\r\n",
    "        # Calculate size in megabytes\r\n",
    "        size_mb = Path(tmp_path).stat().st_size / (1024 * 1024)\r\n",
    "        # Delete temporary file\r\n",
    "        tmp_path.unlink()\r\n",
    "        print(f\"Model size (MB) - {size_mb:.2f}\")\r\n",
    "        return {\"size_mb\": size_mb}\r\n",
    "\r\n",
    "    def time_pipeline(self,query=\"What is the pin number for my account?\"):\r\n",
    "        latencies = []\r\n",
    "        # Warmup\r\n",
    "        for _ in range(10):\r\n",
    "            _ = self.pipeline(query)\r\n",
    "        # Timed run\r\n",
    "        for _ in range(100):\r\n",
    "            start_time = perf_counter()\r\n",
    "            _ = self.pipeline(query)\r\n",
    "            latency = perf_counter() - start_time\r\n",
    "            latencies.append(latency)\r\n",
    "        # Compute run statistics\r\n",
    "        time_avg_ms = 1000 * np.mean(latencies)\r\n",
    "        time_std_ms = 1000 * np.std(latencies)\r\n",
    "        print(f\"Average latency (ms) - {time_avg_ms:.2f} +\\- {time_std_ms:.2f}\")\r\n",
    "        return {\"time_avg_ms\": time_avg_ms, \"time_std_ms\": time_std_ms}\r\n",
    "\r\n",
    "    def run_benchmark(self):\r\n",
    "        metrics = {self.optim_type: self.compute_size()}\r\n",
    "        metrics[self.optim_type].update(self.time_pipeline())\r\n",
    "        metrics[self.optim_type].update(self.compute_accuracy())\r\n",
    "        return metrics"
   ],
   "outputs": [],
   "metadata": {}
  },
  {
   "cell_type": "code",
   "execution_count": 65,
   "source": [
    "import pandas as pd\r\n",
    "\r\n",
    "def plot_metrics(perf_metrics, current_optim_type):\r\n",
    "    df = pd.DataFrame.from_dict(perf_metrics, orient='index')\r\n",
    "\r\n",
    "    for idx in df.index:\r\n",
    "        df_opt = df.loc[idx]\r\n",
    "        if idx == current_optim_type:\r\n",
    "            plt.scatter(df_opt[\"time_avg_ms\"], df_opt[\"accuracy\"] * 100,\r\n",
    "                        alpha=0.5, s=df_opt[\"size_mb\"], label=idx,\r\n",
    "                        marker='$\\u25CC$')\r\n",
    "        else:\r\n",
    "            plt.scatter(df_opt[\"time_avg_ms\"], df_opt[\"accuracy\"] * 100,\r\n",
    "                        s=df_opt[\"size_mb\"], label=idx, alpha=0.5)\r\n",
    "\r\n",
    "    legend = plt.legend(bbox_to_anchor=(1,1))\r\n",
    "    for handle in legend.legendHandles:\r\n",
    "        handle.set_sizes([20])\r\n",
    "\r\n",
    "    plt.ylim(80,90)\r\n",
    "    plt.xlim(5, 53)\r\n",
    "    plt.ylabel(\"Accuracy (%)\")\r\n",
    "    plt.xlabel(\"Average latency (ms)\")\r\n",
    "    plt.show()\r\n"
   ],
   "outputs": [],
   "metadata": {}
  },
  {
   "cell_type": "code",
   "execution_count": 66,
   "source": [
    "### Benchmark the original Model pipeline\r\n",
    "\r\n",
    "pb = PerformanceBenchmark(pipe, clinc[\"test\"])\r\n",
    "perf_metrics = pb.run_benchmark()"
   ],
   "outputs": [
    {
     "output_type": "stream",
     "name": "stdout",
     "text": [
      "Model size (MB) - 313.75\n",
      "Average latency (ms) - 31.52 +\\- 18.03\n",
      "Accuracy on test set - 0.886\n"
     ]
    }
   ],
   "metadata": {}
  },
  {
   "cell_type": "code",
   "execution_count": 41,
   "source": [
    "from torch.quantization import quantize_dynamic\r\n",
    "\r\n",
    "model_quantized = quantize_dynamic(model,{torch.nn.Linear},dtype=torch.qint8)\r\n"
   ],
   "outputs": [],
   "metadata": {}
  },
  {
   "cell_type": "code",
   "execution_count": 42,
   "source": [
    "pipe_quantized = TextClassificationPipeline(model = model_quantized,tokenizer= tokenizer)\r\n",
    "time_pipeline(pipe_quantized)"
   ],
   "outputs": [
    {
     "output_type": "stream",
     "name": "stdout",
     "text": [
      "Average latency (ms) - 12.57 +\\- 1.67\n"
     ]
    },
    {
     "output_type": "execute_result",
     "data": {
      "text/plain": [
       "{'time_avg_ms': 12.573629000000892, 'time_std_ms': 1.6746370605120195}"
      ]
     },
     "metadata": {},
     "execution_count": 42
    },
    {
     "output_type": "stream",
     "name": "stderr",
     "text": [
      "100%|██████████| 172/172 [00:25<00:00, 14.18it/s]"
     ]
    }
   ],
   "metadata": {}
  },
  {
   "cell_type": "code",
   "execution_count": null,
   "source": [],
   "outputs": [],
   "metadata": {}
  }
 ],
 "metadata": {
  "orig_nbformat": 4,
  "language_info": {
   "name": "python",
   "version": "3.7.11",
   "mimetype": "text/x-python",
   "codemirror_mode": {
    "name": "ipython",
    "version": 3
   },
   "pygments_lexer": "ipython3",
   "nbconvert_exporter": "python",
   "file_extension": ".py"
  },
  "kernelspec": {
   "name": "python3",
   "display_name": "Python 3.7.11 64-bit ('nlp': conda)"
  },
  "interpreter": {
   "hash": "a447bb19d79f3db2674aacc85e780e48e431a75fa5f05809ae9b8d2d81dec273"
  }
 },
 "nbformat": 4,
 "nbformat_minor": 2
}