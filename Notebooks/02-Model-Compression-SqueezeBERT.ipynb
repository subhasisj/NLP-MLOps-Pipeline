{
 "cells": [
  {
   "cell_type": "markdown",
   "source": [
    "# Model Compression \r\n",
    "\r\n",
    "We will try Pruning and Quantization on the trained Model"
   ],
   "metadata": {}
  },
  {
   "cell_type": "code",
   "execution_count": 1,
   "source": [
    "import torch\r\n",
    "\r\n",
    "from transformers import (AutoModelForSequenceClassification, AutoTokenizer,TextClassificationPipeline)\r\n",
    "device = torch.device('cuda' if torch.cuda.is_available() else 'cpu')\r\n",
    "print('Using device:', device)"
   ],
   "outputs": [
    {
     "output_type": "stream",
     "name": "stdout",
     "text": [
      "Using device: cuda\n"
     ]
    }
   ],
   "metadata": {}
  },
  {
   "cell_type": "markdown",
   "source": [
    "We will change the device to __CPU__ for benchmarking"
   ],
   "metadata": {}
  },
  {
   "cell_type": "code",
   "execution_count": 2,
   "source": [
    "from pathlib import Path\r\n",
    "from time import perf_counter\r\n",
    "import numpy as np\r\n",
    "from tqdm import tqdm\r\n",
    "\r\n",
    "from datasets import load_metric\r\n",
    "accuracy_score = load_metric('accuracy')\r\n",
    "\r\n",
    "class PerformanceBenchmark:\r\n",
    "    def __init__(self, pipeline, dataset, optim_type=\"BERT baseline\"):\r\n",
    "        self.pipeline = pipeline\r\n",
    "        self.dataset = dataset\r\n",
    "        self.optim_type = optim_type\r\n",
    "\r\n",
    "    def compute_accuracy(self):\r\n",
    "        preds, labels = [], []\r\n",
    "        for example in tqdm(self.dataset,desc='Computing Accuracy'):\r\n",
    "            pred = self.pipeline(example[\"text\"])[0][\"label\"].split('_')[1]\r\n",
    "            label = example[\"labels\"]\r\n",
    "            # preds.append(intents.str2int(pred))\r\n",
    "            preds.append(pred)\r\n",
    "            labels.append(label)\r\n",
    "        accuracy = accuracy_score.compute(predictions=preds, references=labels)\r\n",
    "        print(f\"Accuracy on test set - {accuracy['accuracy']:.3f}\")\r\n",
    "        return accuracy\r\n",
    "\r\n",
    "    def compute_size(self):\r\n",
    "        state_dict = self.pipeline.model.state_dict()\r\n",
    "        tmp_path = Path(\"model.pt\")\r\n",
    "        torch.save(state_dict, tmp_path)\r\n",
    "        # Calculate size in megabytes\r\n",
    "        size_mb = Path(tmp_path).stat().st_size / (1024 * 1024)\r\n",
    "        # Delete temporary file\r\n",
    "        tmp_path.unlink()\r\n",
    "        print(f\"Model size (MB) - {size_mb:.2f}\")\r\n",
    "        return {\"size_mb\": size_mb}\r\n",
    "\r\n",
    "    def time_pipeline(self,query=\"What is the pin number for my account?\"):\r\n",
    "        latencies = []\r\n",
    "        # Warmup\r\n",
    "        for _ in range(10):\r\n",
    "            _ = self.pipeline(query)\r\n",
    "        # Timed run\r\n",
    "        for _ in tqdm(range(100),desc='Latency Check'):\r\n",
    "            start_time = perf_counter()\r\n",
    "            _ = self.pipeline(query)\r\n",
    "            latency = perf_counter() - start_time\r\n",
    "            latencies.append(latency)\r\n",
    "        # Compute run statistics\r\n",
    "        time_avg_ms = 1000 * np.mean(latencies)\r\n",
    "        time_std_ms = 1000 * np.std(latencies)\r\n",
    "        print(f\"Average latency (ms) - {time_avg_ms:.2f} +\\- {time_std_ms:.2f}\")\r\n",
    "        return {\"time_avg_ms\": time_avg_ms, \"time_std_ms\": time_std_ms}\r\n",
    "\r\n",
    "    def run_benchmark(self):\r\n",
    "        metrics = {self.optim_type: self.compute_size()}\r\n",
    "        metrics[self.optim_type].update(self.time_pipeline())\r\n",
    "        metrics[self.optim_type].update(self.compute_accuracy())\r\n",
    "        return metrics"
   ],
   "outputs": [],
   "metadata": {}
  },
  {
   "cell_type": "code",
   "execution_count": 3,
   "source": [
    "import pandas as pd\r\n",
    "import matplotlib.pyplot as plt\r\n",
    "\r\n",
    "\r\n",
    "def plot_metrics(perf_metrics, current_optim_type):\r\n",
    "    df = pd.DataFrame.from_dict(perf_metrics, orient='index')\r\n",
    "    plt.figure(figsize=(10,5))\r\n",
    "    for idx in df.index:\r\n",
    "        df_opt = df.loc[idx]\r\n",
    "        if idx == current_optim_type:\r\n",
    "            plt.scatter(df_opt[\"time_avg_ms\"], df_opt[\"accuracy\"] * 100,\r\n",
    "                        alpha=0.5, s=df_opt[\"size_mb\"], label=idx,\r\n",
    "                        marker='$\\u25CC$')\r\n",
    "        else:\r\n",
    "            plt.scatter(df_opt[\"time_avg_ms\"], df_opt[\"accuracy\"] * 100,\r\n",
    "                        s=df_opt[\"size_mb\"], label=idx, alpha=0.5)\r\n",
    "\r\n",
    "    legend = plt.legend(bbox_to_anchor=(1,1))\r\n",
    "    for handle in legend.legendHandles:\r\n",
    "        handle.set_sizes([20])\r\n",
    "\r\n",
    "    \r\n",
    "    plt.ylim(80,90)\r\n",
    "    plt.xlim(5, 53)\r\n",
    "    plt.ylabel(\"Accuracy (%)\")\r\n",
    "    plt.xlabel(\"Average latency (ms)\")\r\n",
    "    plt.show()\r\n"
   ],
   "outputs": [],
   "metadata": {}
  },
  {
   "cell_type": "code",
   "execution_count": 4,
   "source": [
    "from datasets import load_dataset\r\n",
    "clinc = load_dataset(\"clinc_oos\",\"plus\")\r\n",
    "clinc.rename_column_('intent','labels')\r\n",
    "clinc"
   ],
   "outputs": [
    {
     "output_type": "stream",
     "name": "stderr",
     "text": [
      "Reusing dataset clinc_oos (C:\\Users\\Subha\\.cache\\huggingface\\datasets\\clinc_oos\\plus\\1.0.0\\abcc41d382f8137f039adc747af44714941e8196e845dfbdd8ae7a7e020e6ba1)\n",
      "C:\\Users\\Subha\\.conda\\envs\\nlp\\lib\\site-packages\\ipykernel_launcher.py:3: FutureWarning: rename_column_ is deprecated and will be removed in the next major version of datasets. Use DatasetDict.rename_column instead.\n",
      "  This is separate from the ipykernel package so we can avoid doing imports until\n"
     ]
    },
    {
     "output_type": "execute_result",
     "data": {
      "text/plain": [
       "DatasetDict({\n",
       "    train: Dataset({\n",
       "        features: ['text', 'labels'],\n",
       "        num_rows: 15250\n",
       "    })\n",
       "    validation: Dataset({\n",
       "        features: ['text', 'labels'],\n",
       "        num_rows: 3100\n",
       "    })\n",
       "    test: Dataset({\n",
       "        features: ['text', 'labels'],\n",
       "        num_rows: 5500\n",
       "    })\n",
       "})"
      ]
     },
     "metadata": {},
     "execution_count": 4
    }
   ],
   "metadata": {}
  },
  {
   "cell_type": "markdown",
   "source": [
    "### _Default Model:_ DistilRoberta-Base"
   ],
   "metadata": {}
  },
  {
   "cell_type": "code",
   "execution_count": 5,
   "source": [
    "MODEL_DIR = './models/squeezebert-uncased'\r\n",
    "MODEL_NAME = 'squeezebert-uncased'"
   ],
   "outputs": [],
   "metadata": {}
  },
  {
   "cell_type": "code",
   "execution_count": 6,
   "source": [
    "model = AutoModelForSequenceClassification.from_pretrained(MODEL_DIR)\r\n",
    "tokenizer = AutoTokenizer.from_pretrained(MODEL_DIR)\r\n",
    "\r\n",
    "model.to('cpu')\r\n",
    " \r\n",
    "pipe = TextClassificationPipeline(model = model,tokenizer= tokenizer)\r\n"
   ],
   "outputs": [],
   "metadata": {}
  },
  {
   "cell_type": "code",
   "execution_count": 7,
   "source": [
    "pb = PerformanceBenchmark(pipe, clinc[\"test\"],optim_type=MODEL_NAME)\r\n",
    "perf_metrics = pb.run_benchmark()\r\n"
   ],
   "outputs": [
    {
     "output_type": "stream",
     "name": "stdout",
     "text": [
      "Model size (MB) - 195.44\n"
     ]
    },
    {
     "output_type": "stream",
     "name": "stderr",
     "text": [
      "Latency Check: 100%|██████████| 100/100 [00:05<00:00, 16.77it/s]\n",
      "Computing Accuracy:   0%|          | 2/5500 [00:00<05:46, 15.87it/s]"
     ]
    },
    {
     "output_type": "stream",
     "name": "stdout",
     "text": [
      "Average latency (ms) - 58.89 +\\- 9.64\n"
     ]
    },
    {
     "output_type": "stream",
     "name": "stderr",
     "text": [
      "Computing Accuracy: 100%|██████████| 5500/5500 [04:41<00:00, 19.56it/s]\n"
     ]
    },
    {
     "output_type": "stream",
     "name": "stdout",
     "text": [
      "Accuracy on test set - 0.798\n"
     ]
    }
   ],
   "metadata": {}
  },
  {
   "cell_type": "code",
   "execution_count": 9,
   "source": [
    "perf_metrics"
   ],
   "outputs": [
    {
     "output_type": "execute_result",
     "data": {
      "text/plain": [
       "{'squeezebert-uncased': {'size_mb': 195.43865871429443,\n",
       "  'time_avg_ms': 58.88742800000216,\n",
       "  'time_std_ms': 9.642020811946502,\n",
       "  'accuracy': 0.7981818181818182}}"
      ]
     },
     "metadata": {},
     "execution_count": 9
    }
   ],
   "metadata": {}
  },
  {
   "cell_type": "code",
   "execution_count": 8,
   "source": [
    "plot_metrics(perf_metrics,MODEL_NAME)"
   ],
   "outputs": [
    {
     "output_type": "display_data",
     "data": {
      "image/png": "[encoded data removed]",
      "text/plain": [
       "<Figure size 1000x500 with 1 Axes>"
      ]
     },
     "metadata": {}
    }
   ],
   "metadata": {}
  },
  {
   "cell_type": "markdown",
   "source": [
    "# Pruning\r\n",
    "\r\n",
    "## Unstructured Pruning"
   ],
   "metadata": {}
  },
  {
   "cell_type": "code",
   "execution_count": 10,
   "source": [
    "from torch.nn.utils import prune \r\n",
    "pruner = prune.L1Unstructured(amount=0.1)\r\n",
    "pr_model = AutoModelForSequenceClassification.from_pretrained(MODEL_DIR).to('cpu')\r\n",
    "\r\n",
    "state_dict = pr_model.state_dict()\r\n",
    "\r\n",
    "for key in state_dict.keys(): \r\n",
    "    if \"weight\" in key: \r\n",
    "        state_dict[key] = pruner.prune(state_dict[key])\r\n",
    "\r\n",
    "pr_model.load_state_dict(state_dict)"
   ],
   "outputs": [
    {
     "output_type": "execute_result",
     "data": {
      "text/plain": [
       "<All keys matched successfully>"
      ]
     },
     "metadata": {},
     "execution_count": 10
    }
   ],
   "metadata": {}
  },
  {
   "cell_type": "code",
   "execution_count": 11,
   "source": [
    "pruned_pipe = TextClassificationPipeline(model = pr_model,tokenizer= tokenizer)\r\n",
    "\r\n",
    "pb = PerformanceBenchmark(pruned_pipe, clinc[\"test\"],optim_type=f'Pruned-{MODEL_NAME}')\r\n",
    "perf_metrics.update(pb.run_benchmark())\r\n",
    "plot_metrics(perf_metrics,f'Pruned-{MODEL_NAME}')"
   ],
   "outputs": [
    {
     "output_type": "stream",
     "name": "stdout",
     "text": [
      "Model size (MB) - 195.44\n"
     ]
    },
    {
     "output_type": "stream",
     "name": "stderr",
     "text": [
      "Latency Check: 100%|██████████| 100/100 [00:05<00:00, 19.08it/s]\n",
      "Computing Accuracy:   0%|          | 2/5500 [00:00<04:37, 19.80it/s]"
     ]
    },
    {
     "output_type": "stream",
     "name": "stdout",
     "text": [
      "Average latency (ms) - 52.09 +\\- 8.12\n"
     ]
    },
    {
     "output_type": "stream",
     "name": "stderr",
     "text": [
      "Computing Accuracy: 100%|██████████| 5500/5500 [04:11<00:00, 21.88it/s]\n"
     ]
    },
    {
     "output_type": "stream",
     "name": "stdout",
     "text": [
      "Accuracy on test set - 0.680\n"
     ]
    },
    {
     "output_type": "display_data",
     "data": {
      "image/png": "[encoded data removed]",
      "text/plain": [
       "<Figure size 1000x500 with 1 Axes>"
      ]
     },
     "metadata": {}
    }
   ],
   "metadata": {}
  },
  {
   "cell_type": "markdown",
   "source": [
    "# Quantization\r\n"
   ],
   "metadata": {}
  },
  {
   "cell_type": "markdown",
   "source": [
    "## Quanitzation"
   ],
   "metadata": {}
  },
  {
   "cell_type": "code",
   "execution_count": 12,
   "source": [
    "import torch \r\n",
    "\r\n",
    "\r\n",
    "squeezebert_quan = torch.quantization.quantize_dynamic(\r\n",
    "    model=model,\r\n",
    "    qconfig_spec = {torch.nn.Linear: torch.quantization.default_dynamic_qconfig}, dtype=torch.qint8)"
   ],
   "outputs": [],
   "metadata": {}
  },
  {
   "cell_type": "code",
   "execution_count": 13,
   "source": [
    "squeezebert_quan.device"
   ],
   "outputs": [
    {
     "output_type": "execute_result",
     "data": {
      "text/plain": [
       "device(type='cpu')"
      ]
     },
     "metadata": {},
     "execution_count": 13
    }
   ],
   "metadata": {}
  },
  {
   "cell_type": "code",
   "execution_count": 14,
   "source": [
    "quantized_pipe = TextClassificationPipeline(model = squeezebert_quan,tokenizer= tokenizer)\r\n",
    "\r\n",
    "pb = PerformanceBenchmark(quantized_pipe, clinc[\"test\"],optim_type=f'Quantized-{MODEL_NAME}')\r\n",
    "perf_metrics.update(pb.run_benchmark())\r\n",
    "plot_metrics(perf_metrics,f'Quantized-{MODEL_NAME}')"
   ],
   "outputs": [
    {
     "output_type": "stream",
     "name": "stdout",
     "text": [
      "Model size (MB) - 193.42\n"
     ]
    },
    {
     "output_type": "stream",
     "name": "stderr",
     "text": [
      "Latency Check: 100%|██████████| 100/100 [00:05<00:00, 17.42it/s]\n",
      "Computing Accuracy:   0%|          | 2/5500 [00:00<04:48, 19.05it/s]"
     ]
    },
    {
     "output_type": "stream",
     "name": "stdout",
     "text": [
      "Average latency (ms) - 57.06 +\\- 8.44\n"
     ]
    },
    {
     "output_type": "stream",
     "name": "stderr",
     "text": [
      "Computing Accuracy: 100%|██████████| 5500/5500 [04:25<00:00, 20.75it/s]\n"
     ]
    },
    {
     "output_type": "stream",
     "name": "stdout",
     "text": [
      "Accuracy on test set - 0.798\n"
     ]
    },
    {
     "output_type": "display_data",
     "data": {
      "image/png": "[encoded data removed]",
      "text/plain": [
       "<Figure size 1000x500 with 1 Axes>"
      ]
     },
     "metadata": {}
    }
   ],
   "metadata": {}
  },
  {
   "cell_type": "markdown",
   "source": [
    "\r\n",
    "## Pruning + Quantization"
   ],
   "metadata": {}
  },
  {
   "cell_type": "code",
   "execution_count": 15,
   "source": [
    "\r\n",
    "# squeezebert_quan_pr = torch.quantization.quantize_dynamic(\r\n",
    "#     model=pr_model,\r\n",
    "#     qconfig_spec = {torch.nn.Linear: torch.quantization.default_dynamic_qconfig}, dtype=torch.qint8)"
   ],
   "outputs": [],
   "metadata": {}
  },
  {
   "cell_type": "code",
   "execution_count": 16,
   "source": [
    "# pruned_quantized_pipe = TextClassificationPipeline(model = squeezebert_quan_pr,tokenizer= tokenizer)\r\n",
    "\r\n",
    "# pb = PerformanceBenchmark(pruned_quantized_pipe, clinc[\"test\"],optim_type=f'Pruned-Quantized-{MODEL_NAME}')\r\n",
    "# perf_metrics.update(pb.run_benchmark())\r\n",
    "# plot_metrics(perf_metrics,f'Pruned-Quantized-{MODEL_NAME}')"
   ],
   "outputs": [],
   "metadata": {}
  },
  {
   "cell_type": "markdown",
   "source": [
    "# ONNX"
   ],
   "metadata": {}
  },
  {
   "cell_type": "code",
   "execution_count": 18,
   "source": [
    "from transformers.convert_graph_to_onnx import convert\r\n",
    "\r\n",
    "onnx_model_path = Path(\"models/squeezebert-onnx/squeezebert.onnx\")\r\n",
    "convert(framework=\"pt\", model=model, tokenizer=tokenizer,\r\n",
    "        output=onnx_model_path, opset=12, pipeline_name=\"sentiment-analysis\")"
   ],
   "outputs": [
    {
     "output_type": "stream",
     "name": "stdout",
     "text": [
      "ONNX opset version set to: 12\n",
      "Loading pipeline (model: SqueezeBertForSequenceClassification(\n",
      "  (transformer): SqueezeBertModel(\n",
      "    (embeddings): SqueezeBertEmbeddings(\n",
      "      (word_embeddings): Embedding(30528, 768, padding_idx=0)\n",
      "      (position_embeddings): Embedding(512, 768)\n",
      "      (token_type_embeddings): Embedding(2, 768)\n",
      "      (LayerNorm): LayerNorm((768,), eps=1e-12, elementwise_affine=True)\n",
      "      (dropout): Dropout(p=0.1, inplace=False)\n",
      "    )\n",
      "    (encoder): SqueezeBertEncoder(\n",
      "      (layers): ModuleList(\n",
      "        (0): SqueezeBertModule(\n",
      "          (attention): SqueezeBertSelfAttention(\n",
      "            (query): Conv1d(768, 768, kernel_size=(1,), stride=(1,), groups=4)\n",
      "            (key): Conv1d(768, 768, kernel_size=(1,), stride=(1,), groups=4)\n",
      "            (value): Conv1d(768, 768, kernel_size=(1,), stride=(1,), groups=4)\n",
      "            (dropout): Dropout(p=0.1, inplace=False)\n",
      "            (softmax): Softmax(dim=-1)\n",
      "            (matmul_qk): MatMulWrapper()\n",
      "            (matmul_qkv): MatMulWrapper()\n",
      "          )\n",
      "          (post_attention): ConvDropoutLayerNorm(\n",
      "            (conv1d): Conv1d(768, 768, kernel_size=(1,), stride=(1,))\n",
      "            (layernorm): SqueezeBertLayerNorm((768,), eps=1e-12, elementwise_affine=True)\n",
      "            (dropout): Dropout(p=0.1, inplace=False)\n",
      "          )\n",
      "          (intermediate): ConvActivation(\n",
      "            (conv1d): Conv1d(768, 3072, kernel_size=(1,), stride=(1,), groups=4)\n",
      "          )\n",
      "          (output): ConvDropoutLayerNorm(\n",
      "            (conv1d): Conv1d(3072, 768, kernel_size=(1,), stride=(1,), groups=4)\n",
      "            (layernorm): SqueezeBertLayerNorm((768,), eps=1e-12, elementwise_affine=True)\n",
      "            (dropout): Dropout(p=0.1, inplace=False)\n",
      "          )\n",
      "        )\n",
      "        (1): SqueezeBertModule(\n",
      "          (attention): SqueezeBertSelfAttention(\n",
      "            (query): Conv1d(768, 768, kernel_size=(1,), stride=(1,), groups=4)\n",
      "            (key): Conv1d(768, 768, kernel_size=(1,), stride=(1,), groups=4)\n",
      "            (value): Conv1d(768, 768, kernel_size=(1,), stride=(1,), groups=4)\n",
      "            (dropout): Dropout(p=0.1, inplace=False)\n",
      "            (softmax): Softmax(dim=-1)\n",
      "            (matmul_qk): MatMulWrapper()\n",
      "            (matmul_qkv): MatMulWrapper()\n",
      "          )\n",
      "          (post_attention): ConvDropoutLayerNorm(\n",
      "            (conv1d): Conv1d(768, 768, kernel_size=(1,), stride=(1,))\n",
      "            (layernorm): SqueezeBertLayerNorm((768,), eps=1e-12, elementwise_affine=True)\n",
      "            (dropout): Dropout(p=0.1, inplace=False)\n",
      "          )\n",
      "          (intermediate): ConvActivation(\n",
      "            (conv1d): Conv1d(768, 3072, kernel_size=(1,), stride=(1,), groups=4)\n",
      "          )\n",
      "          (output): ConvDropoutLayerNorm(\n",
      "            (conv1d): Conv1d(3072, 768, kernel_size=(1,), stride=(1,), groups=4)\n",
      "            (layernorm): SqueezeBertLayerNorm((768,), eps=1e-12, elementwise_affine=True)\n",
      "            (dropout): Dropout(p=0.1, inplace=False)\n",
      "          )\n",
      "        )\n",
      "        (2): SqueezeBertModule(\n",
      "          (attention): SqueezeBertSelfAttention(\n",
      "            (query): Conv1d(768, 768, kernel_size=(1,), stride=(1,), groups=4)\n",
      "            (key): Conv1d(768, 768, kernel_size=(1,), stride=(1,), groups=4)\n",
      "            (value): Conv1d(768, 768, kernel_size=(1,), stride=(1,), groups=4)\n",
      "            (dropout): Dropout(p=0.1, inplace=False)\n",
      "            (softmax): Softmax(dim=-1)\n",
      "            (matmul_qk): MatMulWrapper()\n",
      "            (matmul_qkv): MatMulWrapper()\n",
      "          )\n",
      "          (post_attention): ConvDropoutLayerNorm(\n",
      "            (conv1d): Conv1d(768, 768, kernel_size=(1,), stride=(1,))\n",
      "            (layernorm): SqueezeBertLayerNorm((768,), eps=1e-12, elementwise_affine=True)\n",
      "            (dropout): Dropout(p=0.1, inplace=False)\n",
      "          )\n",
      "          (intermediate): ConvActivation(\n",
      "            (conv1d): Conv1d(768, 3072, kernel_size=(1,), stride=(1,), groups=4)\n",
      "          )\n",
      "          (output): ConvDropoutLayerNorm(\n",
      "            (conv1d): Conv1d(3072, 768, kernel_size=(1,), stride=(1,), groups=4)\n",
      "            (layernorm): SqueezeBertLayerNorm((768,), eps=1e-12, elementwise_affine=True)\n",
      "            (dropout): Dropout(p=0.1, inplace=False)\n",
      "          )\n",
      "        )\n",
      "        (3): SqueezeBertModule(\n",
      "          (attention): SqueezeBertSelfAttention(\n",
      "            (query): Conv1d(768, 768, kernel_size=(1,), stride=(1,), groups=4)\n",
      "            (key): Conv1d(768, 768, kernel_size=(1,), stride=(1,), groups=4)\n",
      "            (value): Conv1d(768, 768, kernel_size=(1,), stride=(1,), groups=4)\n",
      "            (dropout): Dropout(p=0.1, inplace=False)\n",
      "            (softmax): Softmax(dim=-1)\n",
      "            (matmul_qk): MatMulWrapper()\n",
      "            (matmul_qkv): MatMulWrapper()\n",
      "          )\n",
      "          (post_attention): ConvDropoutLayerNorm(\n",
      "            (conv1d): Conv1d(768, 768, kernel_size=(1,), stride=(1,))\n",
      "            (layernorm): SqueezeBertLayerNorm((768,), eps=1e-12, elementwise_affine=True)\n",
      "            (dropout): Dropout(p=0.1, inplace=False)\n",
      "          )\n",
      "          (intermediate): ConvActivation(\n",
      "            (conv1d): Conv1d(768, 3072, kernel_size=(1,), stride=(1,), groups=4)\n",
      "          )\n",
      "          (output): ConvDropoutLayerNorm(\n",
      "            (conv1d): Conv1d(3072, 768, kernel_size=(1,), stride=(1,), groups=4)\n",
      "            (layernorm): SqueezeBertLayerNorm((768,), eps=1e-12, elementwise_affine=True)\n",
      "            (dropout): Dropout(p=0.1, inplace=False)\n",
      "          )\n",
      "        )\n",
      "        (4): SqueezeBertModule(\n",
      "          (attention): SqueezeBertSelfAttention(\n",
      "            (query): Conv1d(768, 768, kernel_size=(1,), stride=(1,), groups=4)\n",
      "            (key): Conv1d(768, 768, kernel_size=(1,), stride=(1,), groups=4)\n",
      "            (value): Conv1d(768, 768, kernel_size=(1,), stride=(1,), groups=4)\n",
      "            (dropout): Dropout(p=0.1, inplace=False)\n",
      "            (softmax): Softmax(dim=-1)\n",
      "            (matmul_qk): MatMulWrapper()\n",
      "            (matmul_qkv): MatMulWrapper()\n",
      "          )\n",
      "          (post_attention): ConvDropoutLayerNorm(\n",
      "            (conv1d): Conv1d(768, 768, kernel_size=(1,), stride=(1,))\n",
      "            (layernorm): SqueezeBertLayerNorm((768,), eps=1e-12, elementwise_affine=True)\n",
      "            (dropout): Dropout(p=0.1, inplace=False)\n",
      "          )\n",
      "          (intermediate): ConvActivation(\n",
      "            (conv1d): Conv1d(768, 3072, kernel_size=(1,), stride=(1,), groups=4)\n",
      "          )\n",
      "          (output): ConvDropoutLayerNorm(\n",
      "            (conv1d): Conv1d(3072, 768, kernel_size=(1,), stride=(1,), groups=4)\n",
      "            (layernorm): SqueezeBertLayerNorm((768,), eps=1e-12, elementwise_affine=True)\n",
      "            (dropout): Dropout(p=0.1, inplace=False)\n",
      "          )\n",
      "        )\n",
      "        (5): SqueezeBertModule(\n",
      "          (attention): SqueezeBertSelfAttention(\n",
      "            (query): Conv1d(768, 768, kernel_size=(1,), stride=(1,), groups=4)\n",
      "            (key): Conv1d(768, 768, kernel_size=(1,), stride=(1,), groups=4)\n",
      "            (value): Conv1d(768, 768, kernel_size=(1,), stride=(1,), groups=4)\n",
      "            (dropout): Dropout(p=0.1, inplace=False)\n",
      "            (softmax): Softmax(dim=-1)\n",
      "            (matmul_qk): MatMulWrapper()\n",
      "            (matmul_qkv): MatMulWrapper()\n",
      "          )\n",
      "          (post_attention): ConvDropoutLayerNorm(\n",
      "            (conv1d): Conv1d(768, 768, kernel_size=(1,), stride=(1,))\n",
      "            (layernorm): SqueezeBertLayerNorm((768,), eps=1e-12, elementwise_affine=True)\n",
      "            (dropout): Dropout(p=0.1, inplace=False)\n",
      "          )\n",
      "          (intermediate): ConvActivation(\n",
      "            (conv1d): Conv1d(768, 3072, kernel_size=(1,), stride=(1,), groups=4)\n",
      "          )\n",
      "          (output): ConvDropoutLayerNorm(\n",
      "            (conv1d): Conv1d(3072, 768, kernel_size=(1,), stride=(1,), groups=4)\n",
      "            (layernorm): SqueezeBertLayerNorm((768,), eps=1e-12, elementwise_affine=True)\n",
      "            (dropout): Dropout(p=0.1, inplace=False)\n",
      "          )\n",
      "        )\n",
      "        (6): SqueezeBertModule(\n",
      "          (attention): SqueezeBertSelfAttention(\n",
      "            (query): Conv1d(768, 768, kernel_size=(1,), stride=(1,), groups=4)\n",
      "            (key): Conv1d(768, 768, kernel_size=(1,), stride=(1,), groups=4)\n",
      "            (value): Conv1d(768, 768, kernel_size=(1,), stride=(1,), groups=4)\n",
      "            (dropout): Dropout(p=0.1, inplace=False)\n",
      "            (softmax): Softmax(dim=-1)\n",
      "            (matmul_qk): MatMulWrapper()\n",
      "            (matmul_qkv): MatMulWrapper()\n",
      "          )\n",
      "          (post_attention): ConvDropoutLayerNorm(\n",
      "            (conv1d): Conv1d(768, 768, kernel_size=(1,), stride=(1,))\n",
      "            (layernorm): SqueezeBertLayerNorm((768,), eps=1e-12, elementwise_affine=True)\n",
      "            (dropout): Dropout(p=0.1, inplace=False)\n",
      "          )\n",
      "          (intermediate): ConvActivation(\n",
      "            (conv1d): Conv1d(768, 3072, kernel_size=(1,), stride=(1,), groups=4)\n",
      "          )\n",
      "          (output): ConvDropoutLayerNorm(\n",
      "            (conv1d): Conv1d(3072, 768, kernel_size=(1,), stride=(1,), groups=4)\n",
      "            (layernorm): SqueezeBertLayerNorm((768,), eps=1e-12, elementwise_affine=True)\n",
      "            (dropout): Dropout(p=0.1, inplace=False)\n",
      "          )\n",
      "        )\n",
      "        (7): SqueezeBertModule(\n",
      "          (attention): SqueezeBertSelfAttention(\n",
      "            (query): Conv1d(768, 768, kernel_size=(1,), stride=(1,), groups=4)\n",
      "            (key): Conv1d(768, 768, kernel_size=(1,), stride=(1,), groups=4)\n",
      "            (value): Conv1d(768, 768, kernel_size=(1,), stride=(1,), groups=4)\n",
      "            (dropout): Dropout(p=0.1, inplace=False)\n",
      "            (softmax): Softmax(dim=-1)\n",
      "            (matmul_qk): MatMulWrapper()\n",
      "            (matmul_qkv): MatMulWrapper()\n",
      "          )\n",
      "          (post_attention): ConvDropoutLayerNorm(\n",
      "            (conv1d): Conv1d(768, 768, kernel_size=(1,), stride=(1,))\n",
      "            (layernorm): SqueezeBertLayerNorm((768,), eps=1e-12, elementwise_affine=True)\n",
      "            (dropout): Dropout(p=0.1, inplace=False)\n",
      "          )\n",
      "          (intermediate): ConvActivation(\n",
      "            (conv1d): Conv1d(768, 3072, kernel_size=(1,), stride=(1,), groups=4)\n",
      "          )\n",
      "          (output): ConvDropoutLayerNorm(\n",
      "            (conv1d): Conv1d(3072, 768, kernel_size=(1,), stride=(1,), groups=4)\n",
      "            (layernorm): SqueezeBertLayerNorm((768,), eps=1e-12, elementwise_affine=True)\n",
      "            (dropout): Dropout(p=0.1, inplace=False)\n",
      "          )\n",
      "        )\n",
      "        (8): SqueezeBertModule(\n",
      "          (attention): SqueezeBertSelfAttention(\n",
      "            (query): Conv1d(768, 768, kernel_size=(1,), stride=(1,), groups=4)\n",
      "            (key): Conv1d(768, 768, kernel_size=(1,), stride=(1,), groups=4)\n",
      "            (value): Conv1d(768, 768, kernel_size=(1,), stride=(1,), groups=4)\n",
      "            (dropout): Dropout(p=0.1, inplace=False)\n",
      "            (softmax): Softmax(dim=-1)\n",
      "            (matmul_qk): MatMulWrapper()\n",
      "            (matmul_qkv): MatMulWrapper()\n",
      "          )\n",
      "          (post_attention): ConvDropoutLayerNorm(\n",
      "            (conv1d): Conv1d(768, 768, kernel_size=(1,), stride=(1,))\n",
      "            (layernorm): SqueezeBertLayerNorm((768,), eps=1e-12, elementwise_affine=True)\n",
      "            (dropout): Dropout(p=0.1, inplace=False)\n",
      "          )\n",
      "          (intermediate): ConvActivation(\n",
      "            (conv1d): Conv1d(768, 3072, kernel_size=(1,), stride=(1,), groups=4)\n",
      "          )\n",
      "          (output): ConvDropoutLayerNorm(\n",
      "            (conv1d): Conv1d(3072, 768, kernel_size=(1,), stride=(1,), groups=4)\n",
      "            (layernorm): SqueezeBertLayerNorm((768,), eps=1e-12, elementwise_affine=True)\n",
      "            (dropout): Dropout(p=0.1, inplace=False)\n",
      "          )\n",
      "        )\n",
      "        (9): SqueezeBertModule(\n",
      "          (attention): SqueezeBertSelfAttention(\n",
      "            (query): Conv1d(768, 768, kernel_size=(1,), stride=(1,), groups=4)\n",
      "            (key): Conv1d(768, 768, kernel_size=(1,), stride=(1,), groups=4)\n",
      "            (value): Conv1d(768, 768, kernel_size=(1,), stride=(1,), groups=4)\n",
      "            (dropout): Dropout(p=0.1, inplace=False)\n",
      "            (softmax): Softmax(dim=-1)\n",
      "            (matmul_qk): MatMulWrapper()\n",
      "            (matmul_qkv): MatMulWrapper()\n",
      "          )\n",
      "          (post_attention): ConvDropoutLayerNorm(\n",
      "            (conv1d): Conv1d(768, 768, kernel_size=(1,), stride=(1,))\n",
      "            (layernorm): SqueezeBertLayerNorm((768,), eps=1e-12, elementwise_affine=True)\n",
      "            (dropout): Dropout(p=0.1, inplace=False)\n",
      "          )\n",
      "          (intermediate): ConvActivation(\n",
      "            (conv1d): Conv1d(768, 3072, kernel_size=(1,), stride=(1,), groups=4)\n",
      "          )\n",
      "          (output): ConvDropoutLayerNorm(\n",
      "            (conv1d): Conv1d(3072, 768, kernel_size=(1,), stride=(1,), groups=4)\n",
      "            (layernorm): SqueezeBertLayerNorm((768,), eps=1e-12, elementwise_affine=True)\n",
      "            (dropout): Dropout(p=0.1, inplace=False)\n",
      "          )\n",
      "        )\n",
      "        (10): SqueezeBertModule(\n",
      "          (attention): SqueezeBertSelfAttention(\n",
      "            (query): Conv1d(768, 768, kernel_size=(1,), stride=(1,), groups=4)\n",
      "            (key): Conv1d(768, 768, kernel_size=(1,), stride=(1,), groups=4)\n",
      "            (value): Conv1d(768, 768, kernel_size=(1,), stride=(1,), groups=4)\n",
      "            (dropout): Dropout(p=0.1, inplace=False)\n",
      "            (softmax): Softmax(dim=-1)\n",
      "            (matmul_qk): MatMulWrapper()\n",
      "            (matmul_qkv): MatMulWrapper()\n",
      "          )\n",
      "          (post_attention): ConvDropoutLayerNorm(\n",
      "            (conv1d): Conv1d(768, 768, kernel_size=(1,), stride=(1,))\n",
      "            (layernorm): SqueezeBertLayerNorm((768,), eps=1e-12, elementwise_affine=True)\n",
      "            (dropout): Dropout(p=0.1, inplace=False)\n",
      "          )\n",
      "          (intermediate): ConvActivation(\n",
      "            (conv1d): Conv1d(768, 3072, kernel_size=(1,), stride=(1,), groups=4)\n",
      "          )\n",
      "          (output): ConvDropoutLayerNorm(\n",
      "            (conv1d): Conv1d(3072, 768, kernel_size=(1,), stride=(1,), groups=4)\n",
      "            (layernorm): SqueezeBertLayerNorm((768,), eps=1e-12, elementwise_affine=True)\n",
      "            (dropout): Dropout(p=0.1, inplace=False)\n",
      "          )\n",
      "        )\n",
      "        (11): SqueezeBertModule(\n",
      "          (attention): SqueezeBertSelfAttention(\n",
      "            (query): Conv1d(768, 768, kernel_size=(1,), stride=(1,), groups=4)\n",
      "            (key): Conv1d(768, 768, kernel_size=(1,), stride=(1,), groups=4)\n",
      "            (value): Conv1d(768, 768, kernel_size=(1,), stride=(1,), groups=4)\n",
      "            (dropout): Dropout(p=0.1, inplace=False)\n",
      "            (softmax): Softmax(dim=-1)\n",
      "            (matmul_qk): MatMulWrapper()\n",
      "            (matmul_qkv): MatMulWrapper()\n",
      "          )\n",
      "          (post_attention): ConvDropoutLayerNorm(\n",
      "            (conv1d): Conv1d(768, 768, kernel_size=(1,), stride=(1,))\n",
      "            (layernorm): SqueezeBertLayerNorm((768,), eps=1e-12, elementwise_affine=True)\n",
      "            (dropout): Dropout(p=0.1, inplace=False)\n",
      "          )\n",
      "          (intermediate): ConvActivation(\n",
      "            (conv1d): Conv1d(768, 3072, kernel_size=(1,), stride=(1,), groups=4)\n",
      "          )\n",
      "          (output): ConvDropoutLayerNorm(\n",
      "            (conv1d): Conv1d(3072, 768, kernel_size=(1,), stride=(1,), groups=4)\n",
      "            (layernorm): SqueezeBertLayerNorm((768,), eps=1e-12, elementwise_affine=True)\n",
      "            (dropout): Dropout(p=0.1, inplace=False)\n",
      "          )\n",
      "        )\n",
      "      )\n",
      "    )\n",
      "    (pooler): SqueezeBertPooler(\n",
      "      (dense): Linear(in_features=768, out_features=768, bias=True)\n",
      "      (activation): Tanh()\n",
      "    )\n",
      "  )\n",
      "  (dropout): Dropout(p=0.1, inplace=False)\n",
      "  (classifier): Linear(in_features=768, out_features=151, bias=True)\n",
      "), tokenizer: PreTrainedTokenizerFast(name_or_path='./models/squeezebert-uncased', vocab_size=30528, model_max_len=512, is_fast=True, padding_side='right', special_tokens={'unk_token': '[UNK]', 'sep_token': '[SEP]', 'pad_token': '[PAD]', 'cls_token': '[CLS]', 'mask_token': '[MASK]'}))\n",
      "Using framework PyTorch: 1.7.1+cu110\n",
      "Found input input_ids with shape: {0: 'batch', 1: 'sequence'}\n",
      "Found input token_type_ids with shape: {0: 'batch', 1: 'sequence'}\n",
      "Found input attention_mask with shape: {0: 'batch', 1: 'sequence'}\n",
      "Found output output_0 with shape: {0: 'batch'}\n",
      "Ensuring inputs are in correct order\n",
      "position_ids is not present in the generated input list.\n",
      "Generated inputs order: ['input_ids', 'attention_mask', 'token_type_ids']\n"
     ]
    },
    {
     "output_type": "stream",
     "name": "stderr",
     "text": [
      "C:\\Users\\Subha\\.conda\\envs\\nlp\\lib\\site-packages\\transformers\\models\\squeezebert\\modeling_squeezebert.py:79: TracerWarning: Converting a tensor to a Python index might cause the trace to be incorrect. We can't record the data flow of Python values, so this value will be treated as a constant in the future. This means that the trace might not generalize to other inputs!\n",
      "  position_ids = self.position_ids[:, :seq_length]\n"
     ]
    }
   ],
   "metadata": {}
  },
  {
   "cell_type": "code",
   "execution_count": 19,
   "source": [
    "from onnxruntime import (GraphOptimizationLevel, InferenceSession,\r\n",
    "                         SessionOptions)\r\n",
    "\r\n",
    "def create_model_for_provider(model_path, provider=\"CPUExecutionProvider\"):\r\n",
    "    options = SessionOptions()\r\n",
    "    options.intra_op_num_threads = 1\r\n",
    "    options.graph_optimization_level = GraphOptimizationLevel.ORT_ENABLE_ALL\r\n",
    "    session = InferenceSession(str(model_path), options, providers=[provider])\r\n",
    "    session.disable_fallback()\r\n",
    "    return session"
   ],
   "outputs": [],
   "metadata": {}
  },
  {
   "cell_type": "code",
   "execution_count": 20,
   "source": [
    "onnx_model = create_model_for_provider(onnx_model_path)"
   ],
   "outputs": [],
   "metadata": {}
  },
  {
   "cell_type": "code",
   "execution_count": 21,
   "source": [
    "from scipy.special import softmax\r\n",
    "\r\n",
    "class OnnxPipeline:\r\n",
    "    def __init__(self, model, tokenizer):\r\n",
    "        self.model = model\r\n",
    "        self.tokenizer = tokenizer\r\n",
    "\r\n",
    "    def __call__(self, query):\r\n",
    "        model_inputs = self.tokenizer(query, return_tensors=\"pt\")\r\n",
    "        inputs_onnx = {k: v.cpu().detach().numpy()\r\n",
    "                       for k, v in model_inputs.items()}\r\n",
    "        logits = self.model.run(None, inputs_onnx)[0][0, :]\r\n",
    "        probs = softmax(logits)\r\n",
    "        pred_idx = np.argmax(probs).item()\r\n",
    "        return [{\"label\": pred_idx, \"score\": probs[pred_idx]}]\r\n",
    "\r\n",
    "\r\n",
    "query = 'I want to book a cab to the airport'\r\n",
    "pipe = OnnxPipeline(onnx_model, tokenizer)\r\n",
    "pipe(query)"
   ],
   "outputs": [
    {
     "output_type": "execute_result",
     "data": {
      "text/plain": [
       "[{'label': 63, 'score': 0.07836581}]"
      ]
     },
     "metadata": {},
     "execution_count": 21
    }
   ],
   "metadata": {}
  },
  {
   "cell_type": "code",
   "execution_count": 22,
   "source": [
    "class OnnxPerformanceBenchmark(PerformanceBenchmark):\r\n",
    "    def __init__(self, *args, model_path, **kwargs):\r\n",
    "        super().__init__(*args, **kwargs)\r\n",
    "        self.model_path = model_path\r\n",
    "\r\n",
    "    def compute_size(self):\r\n",
    "        size_mb = Path(self.model_path).stat().st_size / (1024 * 1024)\r\n",
    "        print(f\"Model size (MB) - {size_mb:.2f}\")\r\n",
    "        return {\"size_mb\": size_mb}\r\n",
    "\r\n",
    "    def compute_accuracy(self):\r\n",
    "        preds, labels = [], []\r\n",
    "        for example in tqdm(self.dataset,desc='Computing Accuracy'):\r\n",
    "            pred = self.pipeline(example[\"text\"])[0][\"label\"]\r\n",
    "            label = example[\"labels\"]\r\n",
    "            # preds.append(intents.str2int(pred))\r\n",
    "            preds.append(pred)\r\n",
    "            labels.append(label)\r\n",
    "        accuracy = accuracy_score.compute(predictions=preds, references=labels)\r\n",
    "        print(f\"Accuracy on test set - {accuracy['accuracy']:.3f}\")\r\n",
    "        return accuracy"
   ],
   "outputs": [],
   "metadata": {}
  },
  {
   "cell_type": "code",
   "execution_count": 23,
   "source": [
    "optim_type = \"ORT\"\r\n",
    "pb = OnnxPerformanceBenchmark(pipe, clinc[\"test\"], optim_type,\r\n",
    "                              model_path=onnx_model_path)\r\n",
    "perf_metrics.update(pb.run_benchmark())"
   ],
   "outputs": [
    {
     "output_type": "stream",
     "name": "stderr",
     "text": [
      "Latency Check:   0%|          | 0/100 [00:00<?, ?it/s]"
     ]
    },
    {
     "output_type": "stream",
     "name": "stdout",
     "text": [
      "Model size (MB) - 195.43\n"
     ]
    },
    {
     "output_type": "stream",
     "name": "stderr",
     "text": [
      "Latency Check: 100%|██████████| 100/100 [00:01<00:00, 60.86it/s]\n",
      "Computing Accuracy:   0%|          | 6/5500 [00:00<01:32, 59.41it/s]"
     ]
    },
    {
     "output_type": "stream",
     "name": "stdout",
     "text": [
      "Average latency (ms) - 16.33 +\\- 2.21\n"
     ]
    },
    {
     "output_type": "stream",
     "name": "stderr",
     "text": [
      "Computing Accuracy: 100%|██████████| 5500/5500 [01:28<00:00, 61.81it/s]"
     ]
    },
    {
     "output_type": "stream",
     "name": "stdout",
     "text": [
      "Accuracy on test set - 0.798\n"
     ]
    },
    {
     "output_type": "stream",
     "name": "stderr",
     "text": [
      "\n"
     ]
    }
   ],
   "metadata": {}
  },
  {
   "cell_type": "code",
   "execution_count": 24,
   "source": [
    "plot_metrics(perf_metrics, optim_type)"
   ],
   "outputs": [
    {
     "output_type": "display_data",
     "data": {
      "image/png": "[encoded data removed]",
      "text/plain": [
       "<Figure size 1000x500 with 1 Axes>"
      ]
     },
     "metadata": {}
    }
   ],
   "metadata": {}
  },
  {
   "cell_type": "markdown",
   "source": [
    "## ONNX + Quantization"
   ],
   "metadata": {}
  },
  {
   "cell_type": "code",
   "execution_count": 32,
   "source": [
    "from onnxruntime.quantization import quantize_dynamic, QuantType\r\n",
    "\r\n",
    "model_output = \"models/squeezebert-onnx/squeezebert.quant.onnx\"\r\n",
    "quantize_dynamic(onnx_model_path, model_output, weight_type=QuantType.QUInt8)"
   ],
   "outputs": [],
   "metadata": {}
  },
  {
   "cell_type": "code",
   "execution_count": 33,
   "source": [
    "onnx_quantized_model = create_model_for_provider(model_output)\r\n",
    "pipe = OnnxPipeline(onnx_quantized_model, tokenizer)\r\n",
    "optim_type = \"ORT (quantized)\"\r\n",
    "pb = OnnxPerformanceBenchmark(pipe, clinc[\"test\"], optim_type,\r\n",
    "                              model_path=model_output)\r\n",
    "perf_metrics.update(pb.run_benchmark())\r\n",
    "plot_metrics(perf_metrics, optim_type)"
   ],
   "outputs": [
    {
     "output_type": "stream",
     "name": "stderr",
     "text": [
      "Latency Check:   0%|          | 0/100 [00:00<?, ?it/s]"
     ]
    },
    {
     "output_type": "stream",
     "name": "stdout",
     "text": [
      "Model size (MB) - 49.41\n"
     ]
    },
    {
     "output_type": "stream",
     "name": "stderr",
     "text": [
      "Latency Check: 100%|██████████| 100/100 [00:01<00:00, 54.50it/s]\n",
      "Computing Accuracy:   0%|          | 6/5500 [00:00<01:48, 50.86it/s]"
     ]
    },
    {
     "output_type": "stream",
     "name": "stdout",
     "text": [
      "Average latency (ms) - 18.23 +\\- 1.15\n"
     ]
    },
    {
     "output_type": "stream",
     "name": "stderr",
     "text": [
      "Computing Accuracy: 100%|██████████| 5500/5500 [01:39<00:00, 55.37it/s]\n"
     ]
    },
    {
     "output_type": "stream",
     "name": "stdout",
     "text": [
      "Accuracy on test set - 0.796\n"
     ]
    },
    {
     "output_type": "display_data",
     "data": {
      "image/png": "[encoded data removed]",
      "text/plain": [
       "<Figure size 1000x500 with 1 Axes>"
      ]
     },
     "metadata": {}
    }
   ],
   "metadata": {}
  },
  {
   "cell_type": "markdown",
   "source": [
    "## ONNX + Quantization + No Padding"
   ],
   "metadata": {}
  },
  {
   "cell_type": "code",
   "execution_count": 34,
   "source": [
    "class OnnxPipelineNoPadding(OnnxPipeline):\r\n",
    "    def __init__(self, model, tokenizer):\r\n",
    "        self.model = model\r\n",
    "        self.tokenizer = tokenizer\r\n",
    "\r\n",
    "    def __call__(self, query):\r\n",
    "        model_inputs = self.tokenizer(query, return_tensors=\"pt\",padding=False)\r\n",
    "        inputs_onnx = {k: v.cpu().detach().numpy()\r\n",
    "                       for k, v in model_inputs.items()}\r\n",
    "        logits = self.model.run(None, inputs_onnx)[0][0, :]\r\n",
    "        probs = softmax(logits)\r\n",
    "        pred_idx = np.argmax(probs).item()\r\n",
    "        return [{\"label\": pred_idx, \"score\": probs[pred_idx]}]\r\n",
    "\r\n",
    "\r\n",
    "query = 'I want to book a cab to the airport'\r\n",
    "pipe = OnnxPipeline(onnx_model, tokenizer)\r\n",
    "pipe(query)"
   ],
   "outputs": [
    {
     "output_type": "execute_result",
     "data": {
      "text/plain": [
       "[{'label': 63, 'score': 0.07836581}]"
      ]
     },
     "metadata": {},
     "execution_count": 34
    }
   ],
   "metadata": {}
  },
  {
   "cell_type": "code",
   "execution_count": 35,
   "source": [
    "pipe = OnnxPipelineNoPadding(onnx_quantized_model, tokenizer)\r\n",
    "optim_type = \"ORT (quantized) + No Padding\"\r\n",
    "pb = OnnxPerformanceBenchmark(pipe, clinc[\"test\"], optim_type,\r\n",
    "                              model_path=model_output)\r\n",
    "perf_metrics.update(pb.run_benchmark())\r\n",
    "plot_metrics(perf_metrics, optim_type)"
   ],
   "outputs": [
    {
     "output_type": "stream",
     "name": "stdout",
     "text": [
      "Model size (MB) - 49.41\n"
     ]
    },
    {
     "output_type": "stream",
     "name": "stderr",
     "text": [
      "Latency Check: 100%|██████████| 100/100 [00:01<00:00, 54.79it/s]\n",
      "Computing Accuracy:   0%|          | 6/5500 [00:00<01:41, 54.03it/s]"
     ]
    },
    {
     "output_type": "stream",
     "name": "stdout",
     "text": [
      "Average latency (ms) - 18.14 +\\- 1.55\n"
     ]
    },
    {
     "output_type": "stream",
     "name": "stderr",
     "text": [
      "Computing Accuracy: 100%|██████████| 5500/5500 [01:36<00:00, 57.12it/s]\n"
     ]
    },
    {
     "output_type": "stream",
     "name": "stdout",
     "text": [
      "Accuracy on test set - 0.796\n"
     ]
    },
    {
     "output_type": "display_data",
     "data": {
      "image/png": "[encoded data removed]",
      "text/plain": [
       "<Figure size 1000x500 with 1 Axes>"
      ]
     },
     "metadata": {}
    }
   ],
   "metadata": {}
  },
  {
   "cell_type": "code",
   "execution_count": null,
   "source": [],
   "outputs": [],
   "metadata": {}
  }
 ],
 "metadata": {
  "orig_nbformat": 4,
  "language_info": {
   "name": "python",
   "version": "3.7.11",
   "mimetype": "text/x-python",
   "codemirror_mode": {
    "name": "ipython",
    "version": 3
   },
   "pygments_lexer": "ipython3",
   "nbconvert_exporter": "python",
   "file_extension": ".py"
  },
  "kernelspec": {
   "name": "python3",
   "display_name": "Python 3.7.11 64-bit ('nlp': conda)"
  },
  "interpreter": {
   "hash": "a447bb19d79f3db2674aacc85e780e48e431a75fa5f05809ae9b8d2d81dec273"
  }
 },
 "nbformat": 4,
 "nbformat_minor": 2
}